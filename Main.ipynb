{
 "cells": [
  {
   "cell_type": "markdown",
   "metadata": {},
   "source": [
    "### Imports"
   ]
  },
  {
   "cell_type": "code",
   "execution_count": 1,
   "metadata": {},
   "outputs": [],
   "source": [
    "import numpy as np\n",
    "import torch\n",
    "import torch.nn as nn\n",
    "import torch.nn.functional as F\n",
    "import math, copy\n",
    "import time, os, sys\n",
    "import textencoder"
   ]
  },
  {
   "cell_type": "code",
   "execution_count": 2,
   "metadata": {},
   "outputs": [],
   "source": [
    "from fastai import *\n",
    "from fastai.text import *"
   ]
  },
  {
   "cell_type": "code",
   "execution_count": 3,
   "metadata": {},
   "outputs": [],
   "source": [
    "enc = textencoder.get_encoder()"
   ]
  },
  {
   "cell_type": "code",
   "execution_count": 4,
   "metadata": {},
   "outputs": [
    {
     "data": {
      "text/plain": [
       "50257"
      ]
     },
     "execution_count": 4,
     "metadata": {},
     "output_type": "execute_result"
    }
   ],
   "source": [
    "enc.encoder['xxpad']"
   ]
  },
  {
   "cell_type": "markdown",
   "metadata": {},
   "source": [
    "### Init"
   ]
  },
  {
   "cell_type": "code",
   "execution_count": null,
   "metadata": {},
   "outputs": [],
   "source": [
    "def node_info():\n",
    "    print(f'Python executable: {sys.executable}\\nname:\\t\\t{__name__}')\n",
    "    if torch.cuda.is_available():\n",
    "        print('Cuda available:\\tTrue')\n",
    "        print(f'Nr of Devices:\\t{torch.cuda.device_count()}')\n",
    "        print(f'Current Device:\\t{torch.cuda.current_device()}')\n",
    "        for i in range(torch.cuda.device_count()):\n",
    "            print(f'Device ({i}):\\t{torch.cuda.get_device_name(i)}\\nCapability:\\t{torch.cuda.get_device_capability(i)}')\n",
    "    else:\n",
    "        print('No GPU Available.')\n",
    "node_info()"
   ]
  },
  {
   "cell_type": "code",
   "execution_count": 6,
   "metadata": {},
   "outputs": [],
   "source": [
    "BOS,FLD,UNK,PAD = 'xxbos','\\n','xxunk','xxpad'\n",
    "MSK, SEP, EOS, SPKA, SPKB = 'xxmsk', 'xxsep', 'xxeos', 'A:', 'B:'\n",
    "TK_MAJ,TK_UP,TK_REP,TK_WREP = 'xxmaj','xxup','xxrep','xxwrep'\n",
    "defaults.text_spec_tok = [UNK,PAD,MSK,SEP,BOS,FLD,TK_MAJ,TK_UP,\n",
    "                          TK_REP,TK_WREP,EOS,SPKA,SPKB]"
   ]
  },
  {
   "cell_type": "markdown",
   "metadata": {},
   "source": [
    "### Helpers"
   ]
  },
  {
   "cell_type": "code",
   "execution_count": 7,
   "metadata": {},
   "outputs": [
    {
     "name": "stdout",
     "output_type": "stream",
     "text": [
      "Allocated:\t0.0 GB\n",
      "Max Allocated:\t0.0 GB\n",
      "Cached:\t\t0.0 GB\n",
      "Max Cached:\t0.0 GB\n"
     ]
    }
   ],
   "source": [
    "def to_gb(x):\n",
    "    return np.round(x / 1e9, 2)\n",
    "\n",
    "def get_mem():\n",
    "    s = ''\n",
    "    s += f'Allocated:\\t{to_gb(torch.cuda.memory_allocated())} GB'\n",
    "    s += f'\\nMax Allocated:\\t{to_gb(torch.cuda.max_memory_allocated())} GB'\n",
    "    s += f'\\nCached:\\t\\t{to_gb(torch.cuda.memory_cached())} GB'\n",
    "    s += f'\\nMax Cached:\\t{to_gb(torch.cuda.max_memory_cached())} GB'\n",
    "    print(s)\n",
    "get_mem()"
   ]
  },
  {
   "cell_type": "code",
   "execution_count": 8,
   "metadata": {},
   "outputs": [],
   "source": [
    "def clones(module, N):\n",
    "    \"\"\"Produces N identical layers.\"\"\"\n",
    "    return nn.ModuleList([deepcopy(module) for _ in range(N)])"
   ]
  },
  {
   "cell_type": "code",
   "execution_count": 9,
   "metadata": {},
   "outputs": [],
   "source": [
    "def acc(prediction, target, thresh=0.5, sigmoid=True)->Rank0Tensor:\n",
    "    \"Compute accuracy when `prediction` and `target` are the same size.\"\n",
    "    if sigmoid: prediction = prediction.sigmoid()\n",
    "    return ((prediction>thresh)==target.byte()).float().mean()"
   ]
  },
  {
   "cell_type": "markdown",
   "metadata": {},
   "source": [
    "## Model"
   ]
  },
  {
   "cell_type": "code",
   "execution_count": 10,
   "metadata": {},
   "outputs": [],
   "source": [
    "class GeLU(nn.Module):\n",
    "    def forward(self, x):\n",
    "        return 0.5 * x * (1 + torch.tanh(0.79788 * (x + 0.044715 * torch.pow(x, 3))))"
   ]
  },
  {
   "cell_type": "code",
   "execution_count": 11,
   "metadata": {},
   "outputs": [],
   "source": [
    "DimDropout = RNNDropout"
   ]
  },
  {
   "cell_type": "code",
   "execution_count": 12,
   "metadata": {},
   "outputs": [],
   "source": [
    "class Encoder(nn.Module):\n",
    "    r\"\"\"\n",
    "    Contains N identical copies of a 'EncoderLayer'.\n",
    "    \n",
    "    During the forward pass, the input is passed sequentially\n",
    "    from one EncoderLayer to the next.\n",
    "    \n",
    "    Input:\n",
    "    - src: A Tensor of shape (batch-size, sequence-length-src, d_model)\n",
    "    \n",
    "    Output: A Tensor of the same shape as 'src'\n",
    "    \"\"\"\n",
    "    def __init__(self, N, d_model, d_ff, h, p_att, p_ff, p_res, use_concat):\n",
    "        super().__init__()\n",
    "        layer = EncoderLayer(d_model, d_ff, h, p_att, p_ff, p_res, use_concat)\n",
    "        self.layers = clones(layer, N)\n",
    "        \n",
    "    def forward(self, src, mask):\n",
    "        for l in self.layers:\n",
    "            src = l(src, mask)\n",
    "        return src"
   ]
  },
  {
   "cell_type": "code",
   "execution_count": 13,
   "metadata": {},
   "outputs": [],
   "source": [
    "class EncoderLayer(nn.Module):\n",
    "    r\"\"\"\n",
    "    Contains Two Sublayers:\n",
    "    - A 'Multiattn' layer\n",
    "    - A 'Feedforward' layer\n",
    "    \n",
    "    The input is passed through these two layers sequentially, in that order.\n",
    "    \n",
    "    Input:\n",
    "    - src: A Tensor of shape (batch-size, sequence-length-src, d_model)\n",
    "    \n",
    "    Output: A Tensor of the same shape as 'src'\n",
    "    \"\"\"\n",
    "    def __init__(self, d_model, d_ff, h, p_att, p_ff, p_res, use_concat):\n",
    "        super().__init__()\n",
    "        self.L0 = Multiattn(d_model, h, p_att, p_res, use_concat)\n",
    "        self.L1 = Feedforward(d_model, d_ff, p_ff, p_res, use_concat)\n",
    "    \n",
    "    def forward(self, src, mask):\n",
    "        src = self.L0(src, mask)\n",
    "        return self.L1(src)"
   ]
  },
  {
   "cell_type": "code",
   "execution_count": 14,
   "metadata": {},
   "outputs": [],
   "source": [
    "class Feedforward(nn.Module):\n",
    "    r\"\"\"\n",
    "    Contains a residual connection wrapping around\n",
    "    a two layer feed-forward network with dropout,\n",
    "    followed by layer normalization.\n",
    "    \n",
    "    Input:\n",
    "    - x: A Tensor of shape (batch-size, sequence-length, d_model)\n",
    "    \n",
    "    Output: A Tensor of the same shape as 'x'\n",
    "    \"\"\"\n",
    "    def __init__(self, d_model, d_ff, p_ff, p_res, use_concat):\n",
    "        super().__init__()\n",
    "        self.use_cat = use_concat\n",
    "        _layers = []\n",
    "        _layers.append(nn.LayerNorm(d_model))\n",
    "        _layers.append(GeLU())\n",
    "        _layers.append(nn.Linear(d_model, d_ff))\n",
    "        _layers.append(nn.LayerNorm(d_ff))\n",
    "        _layers.append(GeLU())\n",
    "        _layers.append(nn.Dropout(p_ff))\n",
    "        _layers.append(nn.Linear(d_ff, d_model))\n",
    "        _layers.append(nn.Dropout(p_res))\n",
    "        self.layers = nn.Sequential(*_layers)\n",
    "        if use_concat: self.MC = nn.Linear(d_model*2, d_model)\n",
    "        \n",
    "    def forward(self, x):\n",
    "        if self.use_cat:\n",
    "            return self.MC(torch.cat([x, self.layers(x)], dim=-1))\n",
    "        else:\n",
    "            return x + self.layers(x)"
   ]
  },
  {
   "cell_type": "code",
   "execution_count": 44,
   "metadata": {},
   "outputs": [],
   "source": [
    "class Multiattn(nn.Module):\n",
    "    r\"\"\"\n",
    "    Contains a residual connection wrapping around\n",
    "    a self-attention function with dropout,\n",
    "    followed by layer normalization.\n",
    "    \n",
    "    Input:\n",
    "    The sequence-length of the query can be different from the key and value.\n",
    "    - Q: A Tensor of shape (batch-size, sequence-length, d_model)\n",
    "    - K: A Tensor of shape (batch-size, sequence-length, d_model)\n",
    "    - V: A Tensor of shape (batch-size, sequence-length, d_model)\n",
    "    \n",
    "    Output: A Tensor of the same shape as 'Q' (query)\n",
    "    \"\"\"\n",
    "    def __init__(self, d_model, h, p_att, p_res, use_concat):\n",
    "        super().__init__()\n",
    "        self.d_model, self.h, self.d_k = d_model, h, d_model // h\n",
    "        self.sqrt_d_k = math.sqrt(self.d_k)\n",
    "        self.use_cat = use_concat\n",
    "        \n",
    "        self.norm = nn.LayerNorm(d_model)\n",
    "        self.actv = GeLU()\n",
    "        \n",
    "        self.MQ = nn.Linear(d_model, d_model)\n",
    "        self.MK = nn.Linear(d_model, d_model)\n",
    "        self.MV = nn.Linear(d_model, d_model)\n",
    "        \n",
    "        self.Softmax = nn.Softmax(dim=-1)\n",
    "        self.att_drop = nn.Dropout(p_att)\n",
    "        self.MO = nn.Linear(d_model, d_model)\n",
    "        self.res_drop = nn.Dropout(p_res)\n",
    "        if use_concat: self.MC = nn.Linear(d_model*2, d_model)\n",
    "        \n",
    "    def forward(self, x, mask=None):\n",
    "        bs, h, d_k = x.size(0), self.h, self.d_k\n",
    "        \n",
    "        x = self.actv(self.norm(x))\n",
    "        \n",
    "        Q = self.MQ(x).view(bs, -1, h, d_k).transpose(1, 2)\n",
    "        K = self.MK(x).view(bs, -1, h, d_k).transpose(1, 2)\n",
    "        V = self.MV(x).view(bs, -1, h, d_k).transpose(1, 2)\n",
    "        \n",
    "        Q = (Q @ K.transpose(-1, -2) / self.sqrt_d_k)\n",
    "        if mask is not None:\n",
    "            Q = Q.masked_fill(mask[:,:,:Q.size(-2),:Q.size(-1)], -float('inf')) # might have to cast to float for this\n",
    "        Q = self.att_drop(self.Softmax(Q)) @ V\n",
    "        Q = self.res_drop(self.MO(Q.transpose(1, 2).contiguous().view(bs, -1, self.d_model)))\n",
    "        if self.use_cat:\n",
    "            Q = self.MC(torch.cat([x, Q], dim=-1))\n",
    "        else:\n",
    "            Q = x + Q\n",
    "        return Q"
   ]
  },
  {
   "cell_type": "code",
   "execution_count": 16,
   "metadata": {},
   "outputs": [],
   "source": [
    "class PositionalEncoding(nn.Module):\n",
    "    \"Encode the position with a sinusoid.\"\n",
    "    def __init__(self, d_model):\n",
    "        super().__init__()\n",
    "        freq = torch.exp(torch.arange(1.0, d_model+1, 2) * -(math.log(300.0) / d_model))\n",
    "        self.register_buffer('freq', freq)\n",
    "    \n",
    "    def forward(self, pos):\n",
    "        inp = torch.ger(pos, self.freq)\n",
    "        enc = torch.cat([inp.sin(), inp.cos()], dim=-1)\n",
    "        return enc"
   ]
  },
  {
   "cell_type": "code",
   "execution_count": 17,
   "metadata": {},
   "outputs": [],
   "source": [
    "class EmbeddingLayer(nn.Module):\n",
    "    r\"\"\"\n",
    "    Contains the Embedding Layer and adds positional encodings.\n",
    "    \n",
    "    Converts a Tuple of Lists of numericalized tokens into embedding Vectors.\n",
    "    Then adds precomputed cos and sin values to the different dimensions (positional encoding)\n",
    "    The input Lists can be of different length and the batch size can be changed at any point,\n",
    "    even during training, without having to change the model.\n",
    "    However the sequence length of 'tgt' might have to have a constant length,\n",
    "    depending on if the final layer (not contained in this module) can cope with varying lengths.\n",
    "    \n",
    "    Input:\n",
    "    - src: A list of ints of shape (batch-size, sequence-length-src)\n",
    "    \n",
    "    Output:A Tensor of shape (batch-size, sequence-length-src, embedding-dim(aka. d_model))\n",
    "    \"\"\"\n",
    "    def __init__(self, vocab_size, ctx_len, learned_pos_enc, d_model, p_drop):\n",
    "        super().__init__()\n",
    "        self.l_pos = learned_pos_enc\n",
    "        self.embed = nn.Embedding(vocab_size, d_model)\n",
    "        self.emb_drop = nn.Dropout(p_drop)\n",
    "        # self.init_pos_enc(ctx_len, d_model)\n",
    "        self.pe = nn.Embedding(ctx_len, d_model) if learned_pos_enc else PositionalEncoding(d_model)\n",
    "        self.pe_drop = nn.Dropout(p_drop)\n",
    "        \n",
    "    def forward(self, src):\n",
    "        src = self.emb_drop(self.embed(src))\n",
    "        # src = src + self.pe[:, :src.size(1)]\n",
    "        pos = torch.arange(0, src.size(1), device=src.device, dtype=(torch.int64 if self.l_pos else src.dtype))\n",
    "        src = self.pe_drop(src + self.pe(pos)[None])\n",
    "        return src\n",
    "    \n",
    "    def init_pos_enc(self, ctx_len, d_model):\n",
    "        _max_len = max_seq_len*2 if 'max_seq_len' in globals() else 640\n",
    "        div = torch.exp(torch.arange(1.0, d_model+1, 2) * -(math.log(300.0) / d_model))\n",
    "        pos = torch.arange(1.0, ctx_len + 1)\n",
    "        foo = torch.ger(pos, div)\n",
    "        pe = torch.cat([foo.sin(), foo.cos()], dim=-1).unsqueeze(0)\n",
    "        self.register_buffer('pe', pe)"
   ]
  },
  {
   "cell_type": "code",
   "execution_count": 18,
   "metadata": {},
   "outputs": [],
   "source": [
    "class FinalLayer(nn.Module):\n",
    "    r\"\"\"\n",
    "    This Module takes the rich reqresentation of the 'Decoder'\n",
    "    and converts it into a single scalar number. A probability\n",
    "    between 0 and 1.\n",
    "    \n",
    "    Input:\n",
    "    - x: A Tensor of shape (batch-size, sequence-length, d_model)\n",
    "    \n",
    "    Output: A single scalar number between zero and one\n",
    "    \"\"\"\n",
    "    def __init__(self, n_out, d_model, p_drop, tie_enc=None):\n",
    "        super().__init__()\n",
    "        _layers = []\n",
    "        _layers.append(nn.LayerNorm(d_model))\n",
    "        _layers.append(GeLU())\n",
    "        lin = nn.Linear(d_model, n_out)\n",
    "        if tie_enc is not None: lin.weight = tie_enc.weight\n",
    "        _layers.append(lin)\n",
    "        self.layers = nn.Sequential(*_layers)\n",
    "        \n",
    "    def forward(self, x):\n",
    "        return self.layers(x)"
   ]
  },
  {
   "cell_type": "code",
   "execution_count": 22,
   "metadata": {},
   "outputs": [],
   "source": [
    "class FinalLayerClassifier(nn.Module):\n",
    "    r\"\"\"\n",
    "    This Module takes the rich reqresentation of the 'Decoder'\n",
    "    and converts it into a single scalar number. A probability\n",
    "    between 0 and 1.\n",
    "    \n",
    "    Input:\n",
    "    - x: A Tensor of shape (batch-size, sequence-length, d_model)\n",
    "    \n",
    "    Output: A single scalar number between zero and one\n",
    "    \"\"\"\n",
    "    def __init__(self, n_out, d_model, p_drop):\n",
    "        super().__init__()\n",
    "        _layers = []\n",
    "        _layers.append(nn.LayerNorm(d_model * 100))\n",
    "        _layers.append(GeLU())\n",
    "        _layers.append(nn.Linear(d_model * 100, 50))\n",
    "        _layers.append(nn.LayerNorm(50))\n",
    "        _layers.append(GeLU())\n",
    "        _layers.append(nn.Dropout(p_drop))\n",
    "        _layers.append(nn.Linear(50, n_out)) # 2 or 1 out features\n",
    "        self.layers = nn.Sequential(*_layers)\n",
    "\n",
    "    def forward(self, x):\n",
    "        x = x.view(x.size(0), -1)\n",
    "        x = self.layers(x)\n",
    "        return x"
   ]
  },
  {
   "cell_type": "code",
   "execution_count": 23,
   "metadata": {},
   "outputs": [],
   "source": [
    "class FinalLayerClassifier(nn.Module):\n",
    "    r\"\"\"\n",
    "    This Module takes the rich reqresentation of the 'Decoder'\n",
    "    and converts it into a single scalar number. A probability\n",
    "    between 0 and 1.\n",
    "    \n",
    "    Input:\n",
    "    - x: A Tensor of shape (batch-size, sequence-length, d_model)\n",
    "    \n",
    "    Output: A single scalar number between zero and one\n",
    "    \"\"\"\n",
    "    def __init__(self, n_out, d_model, p_drop):\n",
    "        super().__init__()\n",
    "        _layers = []\n",
    "        _layers.append(nn.LayerNorm(d_model * 2))\n",
    "        _layers.append(GeLU())\n",
    "        _layers.append(nn.Linear(d_model * 2, 50))\n",
    "        _layers.append(nn.LayerNorm(50))\n",
    "        _layers.append(GeLU())\n",
    "        _layers.append(nn.Dropout(p_drop))\n",
    "        _layers.append(nn.Linear(50, n_out)) # 2 or 1 out features\n",
    "        self.layers = nn.Sequential(*_layers)\n",
    "\n",
    "    def forward(self, x):\n",
    "        avg = torch.mean(x, dim=1, keepdim=False)\n",
    "        mx  = torch.max(x, dim=1, keepdim=False)[0]\n",
    "        x = torch.cat([avg, mx], dim=1)\n",
    "        x = self.layers(x)\n",
    "        return x"
   ]
  },
  {
   "cell_type": "code",
   "execution_count": 24,
   "metadata": {},
   "outputs": [],
   "source": [
    "class Transformer(nn.Module):\n",
    "    r\"\"\"\n",
    "    Wrapper around the three pieces that make up the model.\n",
    "    Passes the input from one part to the next.\n",
    "    \n",
    "    Input:\n",
    "    - src: A list of ints of shape (batch-size, sequence-length-src)\n",
    "    - tgt: A list of ints of shape (batch-size, sequence-length-tgt)\n",
    "    The first list is the 'source' text and the second list is the 'target' text.\n",
    "    \n",
    "    Output:\n",
    "    - prediction: a Tensor of whatever shape the final layer returns. The first\n",
    "    dimension is always batch-size.\n",
    "    \"\"\"\n",
    "    def __init__(self, emb, enc_dec, final, use_msk):\n",
    "        super().__init__()\n",
    "        self.use_msk = use_msk\n",
    "        self.emb = emb\n",
    "        self.enc_dec = enc_dec\n",
    "        self.final = final\n",
    "        \n",
    "    def forward(self, src):\n",
    "        bs, l = src.size()\n",
    "        src = self.emb(src)\n",
    "        mask = torch.triu(src.new_ones(l, l), diagonal=1).byte()[None,None] if self.use_msk else None\n",
    "        src = self.enc_dec(src, mask=mask)\n",
    "        src = self.final(src)\n",
    "        return src"
   ]
  },
  {
   "cell_type": "code",
   "execution_count": 25,
   "metadata": {},
   "outputs": [],
   "source": [
    "def predict(learn, enc, text, n_words, temperature=1, min_p=None):\n",
    "    assert not learn.model.training, 'model is in training mode'\n",
    "    xb, yb = LongTensor([enc.encode(text)]).to(learn.data.device), LongTensor([0]).to(learn.data.device)\n",
    "    new_idx = xb.tolist()[0]\n",
    "    for _ in range(n_words):\n",
    "        res = learner.pred_batch(batch=(xb, yb))[0][-1]\n",
    "        if min_p is not None: \n",
    "            if (res >= min_p).float().sum() == 0:\n",
    "                warn(f\"There is no item with probability >= {min_p}, try a lower value.\")\n",
    "            else: res[res < min_p] = 0.\n",
    "        if temperature != 1.: res.pow_(1 / temperature)\n",
    "        idx = torch.multinomial(res, 1).item()\n",
    "        new_idx.append(idx)\n",
    "        xb = xb.new_tensor([new_idx])\n",
    "    return enc.decode(new_idx)"
   ]
  },
  {
   "cell_type": "markdown",
   "metadata": {},
   "source": [
    "### Model Factory"
   ]
  },
  {
   "cell_type": "code",
   "execution_count": 26,
   "metadata": {},
   "outputs": [],
   "source": [
    "def init_transformer(m):\n",
    "    classname = m.__class__.__name__\n",
    "    if classname.find('Linear') != -1:\n",
    "        if hasattr(m, 'weight') and m.weight is not None: nn.init.normal_(m.weight, 0., 0.02)\n",
    "        if hasattr(m, 'bias') and m.bias is not None:     nn.init.constant_(m.bias, 0.)\n",
    "    elif classname.find('LayerNorm') != -1:\n",
    "        if hasattr(m, 'weight') and m.weight is not None: nn.init.normal_(m.weight, 1., 0.02)\n",
    "        if hasattr(m, 'bias') and m.bias is not None:     nn.init.constant_(m.bias, 0.)"
   ]
  },
  {
   "cell_type": "code",
   "execution_count": 27,
   "metadata": {},
   "outputs": [],
   "source": [
    "def make_model(vocab_size, n_classes=1, N=6, d_model=512, d_ff=1024, h=8, p_drop=0.1, tie_weights=False, use_concat=False, use_msk=False, learned_pos=False):\n",
    "    r\"\"\"\n",
    "    Takes in a bunch of Hyperparameters and uses them to contruct different parts of the network.\n",
    "    Initializes all parameters of the network, using the xavier_uniform initialization.\n",
    "    \n",
    "    Args:\n",
    "    - vocab_size: size of the vocab\n",
    "    - n_classes: number of classes to predict\n",
    "    - N: Number of Encoder / Decoder Layers\n",
    "    - d_model: embedding size\n",
    "    - d_ff: Dimensionality of the Feed-Forward layers\n",
    "    - h: nr of attention heads\n",
    "    - p_drop: Dropout probability\n",
    "    - tie_weights: last layer shares same weights as embedding\n",
    "    - use_concat: concat network vs residual network\n",
    "    - use_msk: mask words during attention\n",
    "    - learned_pos: sin/cos vs learned positional enc\n",
    "    \n",
    "    Returns:\n",
    "    A 'WholeModel' pytorch Module.\n",
    "    Takes in two argument to pass to the embedding_layer\n",
    "    and returns whatever the final_layer outputs.\n",
    "    \"\"\"\n",
    "    assert d_model % h == 0                          , 'd_model has to be a multiple of h'\n",
    "    assert n_classes == vocab_size or not tie_weights, 'weight tying can only be used when n_classes == vocab_size'\n",
    "    \n",
    "    p_emb, p_att, p_ff, p_res, p_out = [p_drop] * 5 if isinstance(p_drop, float) else p_drop\n",
    "    \n",
    "    emb_layer    = EmbeddingLayer(vocab_size, 512, learned_pos, d_model, p_emb)\n",
    "    enc_dec      = Encoder(N, d_model, d_ff, h, p_att, p_ff, p_res, use_concat)\n",
    "    tie_enc      = emb_layer.embed if tie_weights else None\n",
    "    final_layer  = FinalLayer(n_classes, d_model, p_out, tie_enc)\n",
    "\n",
    "    model = Transformer(emb_layer, enc_dec, final_layer, use_msk)\n",
    "    \n",
    "    model.apply(init_transformer)\n",
    "    return model"
   ]
  },
  {
   "cell_type": "markdown",
   "metadata": {},
   "source": [
    "### Learner(+Model) Factory"
   ]
  },
  {
   "cell_type": "code",
   "execution_count": 28,
   "metadata": {},
   "outputs": [],
   "source": [
    "def create_lm(data, N=5, d_model=512, d_ff=1024, h=8, p_drop=0.1, tie_weights=True, use_concat=True, use_msk=True, learned_pos=False, fp_16=True):\n",
    "    r\"\"\"\n",
    "    Bundle the model creation and learner creation in one function\n",
    "    \"\"\"\n",
    "    vocab_size = len(data.vocab.itos)\n",
    "    \n",
    "    model = make_model(vocab_size, vocab_size, N, d_model, d_ff, h, p_drop, tie_weights, use_concat, use_msk, learned_pos)\n",
    "    groups = None\n",
    "    learn = Learner(data, model, metrics=accuracy, layer_groups=groups)\n",
    "    if fp_16: learn = learn.to_fp16(dynamic=True)\n",
    "    return learn"
   ]
  },
  {
   "cell_type": "code",
   "execution_count": 29,
   "metadata": {},
   "outputs": [],
   "source": [
    "def load_state(path):\n",
    "    state = torch.load(path, map_location=torch.device('cpu'))\n",
    "    if 'model' in state: state = state['model']\n",
    "    for e in state: state[e] = state[e].float()\n",
    "    return state"
   ]
  },
  {
   "cell_type": "code",
   "execution_count": 30,
   "metadata": {},
   "outputs": [],
   "source": [
    "def create_pretrained_lm(data, pretrained_path, N=5, d_model=512, d_ff=1024, h=8, p_drop=0.1, tie_weights=False, use_concat=True, use_msk=True, learned_pos=False, fp_16=True):\n",
    "    vocab_size = len(data.vocab.itos)\n",
    "    \n",
    "    model = make_model(vocab_size, vocab_size, N, d_model, d_ff, h, p_drop, tie_weights, use_concat, use_msk, learned_pos)\n",
    "    state = load_state(pretrained_path)\n",
    "    model.load_state_dict(state, strict=True)\n",
    "    model = model.float()\n",
    "    layers = flatten_model(model)\n",
    "    groups = [nn.Sequential(*layers[1:-1])] + [nn.Sequential(*[layers[0], layers[-1]])]\n",
    "    learn = Learner(data, model, metrics=accuracy, layer_groups=groups)\n",
    "    if fp_16: learn = learn.to_fp16(dynamic=True)\n",
    "    return learn"
   ]
  },
  {
   "cell_type": "code",
   "execution_count": 31,
   "metadata": {},
   "outputs": [],
   "source": [
    "def replace_last_layer(model, new_layer, tie_weights=False):\n",
    "    new_layer.apply(init_transformer)\n",
    "    model.final = None\n",
    "    model.final = deepcopy(new_layer).to(next(model.parameters()).data)\n",
    "    if tie_weights:\n",
    "        assert model.final.lin.weight.shape == model.emb.embed.weight.shape, 'weight shapes have to match'\n",
    "        model.final.lin.weight = model.emb.embed.weight\n",
    "    return model\n",
    "\n",
    "def create_pretrained_cl(data, pretrained_path, N=5, d_model=512, d_ff=1024, h=8, p_drop=0.1, use_concat=True, learned_pos=False, fp_16=True):\n",
    "    vocab_size = len(data.train_ds.VOCAB.itos)\n",
    "    \n",
    "    loss = FlattenedLoss(func=nn.CrossEntropyLoss, axis=-1, floatify=False, is_2d=True) if use_two_classes else FlattenedLoss(func=nn.BCEWithLogitsLoss, axis=-1, floatify=True, is_2d=False)\n",
    "    c = 2 if use_two_classes else 1\n",
    "    metric = accuracy if use_two_classes else acc\n",
    "    \n",
    "    p_out = p_drop if isinstance(p_drop, float) else p_drop[-1]\n",
    "    model = make_model(vocab_size, c, N, d_model, d_ff, h, p_drop, False, use_concat, False, learned_pos)\n",
    "    \n",
    "    model = replace_last_layer(model, FinalLayerClassifier(n_out=c, d_model=d_model, p_drop=p_out))\n",
    "    \n",
    "    state = load_state(pretrained_path)\n",
    "    for k in [k for k in state if k.startswith('final')]:\n",
    "        state.pop(k, None)\n",
    "    model.load_state_dict(state, strict=False)\n",
    "    model = model.float()\n",
    "    \n",
    "    groups = split_model_idx(model, [-7])\n",
    "    \n",
    "    learn = Learner(data, model, metrics=metric, loss_func=loss, layer_groups=groups)\n",
    "    if fp_16: learn = learn.to_fp16(dynamic=True)\n",
    "    return learn"
   ]
  },
  {
   "cell_type": "markdown",
   "metadata": {},
   "source": [
    "### Classifier Factory"
   ]
  },
  {
   "cell_type": "code",
   "execution_count": 32,
   "metadata": {},
   "outputs": [],
   "source": [
    "choice = np.random.choice\n",
    "rand = np.random.rand\n",
    "\n",
    "def limit(arr, idx, lim):\n",
    "    l = len(arr)\n",
    "    if l <= lim: return arr\n",
    "    n_left, n_right, half = idx, l - idx, lim//2\n",
    "    if n_left > half:\n",
    "        l1, l2 = (n_left - half, -(n_right - half)) if n_right > half else ((n_left - half) + (n_right - half), 0)\n",
    "    else:\n",
    "        l1, l2 = (0, -((n_right - half) + (n_left - half))) if n_right > half else (0, 0)\n",
    "    return arr[l1:l2] if l2 < 0 else arr[l1:]\n",
    "\n",
    "class TextDataset(Dataset):\n",
    "    r\"\"\"\n",
    "    Wrapper for the training data.\n",
    "    \"\"\"\n",
    "    def __init__(self, path, cache_name, max_seq_len=100, train=False, valid=False, len_lim=None):\n",
    "        assert train and not valid or not train and valid, 'can not load multiple datasets'\n",
    "        print(f'Loading: {\"train\" if train else \"valid\" if valid else \"None\"}')\n",
    "        \n",
    "        t1 = time.time()\n",
    "        cache_path = Path(path)/cache_name\n",
    "        _VOCAB = Vocab(pickle.load(open(cache_path/'itos.pkl', 'rb')))\n",
    "        if train: _data, _opts = np.load(cache_path/f'train_data.npy'), np.load(cache_path/f'train_opt.npy')\n",
    "        if valid: _data, _opts = np.load(cache_path/f'valid_data.npy'), np.load(cache_path/f'valid_opt.npy')\n",
    "        \n",
    "        if len_lim is not None: _data = _data[:len_lim]\n",
    "        \n",
    "        self.VOCAB = _VOCAB\n",
    "        self.data = _data\n",
    "        self.opts = _opts\n",
    "        self.max_seq_len = max_seq_len\n",
    "        print(f'Setup done: took {np.round(time.time() - t1, 2)} seconds')\n",
    "    \n",
    "    def __getitem__(self, i):\n",
    "        x1 = self.data[i][0]\n",
    "        if rand() > 0.5:\n",
    "            x2 = self.opts[self.data[i][1]]\n",
    "            y = 1\n",
    "        else:\n",
    "            x2 = self.opts[choice(self.data[i][2])]\n",
    "            y = 0\n",
    "        X = np.concatenate((x1, x2), axis=-1)\n",
    "        X = limit(X, len(x1), self.max_seq_len)\n",
    "        return (X, y)\n",
    "    \n",
    "    def __len__(self):\n",
    "        return len(self.data)"
   ]
  },
  {
   "cell_type": "code",
   "execution_count": 33,
   "metadata": {},
   "outputs": [],
   "source": [
    "def pad_x(samples, pad_idx=enc.encoder['xxpad'], pad_first=True):\n",
    "    \"Pad the input to be all the same length.\"\n",
    "    # max_len = max([len(s) for s in samples])\n",
    "    max_len = 100\n",
    "    res = torch.zeros(len(samples), max_len).long() + pad_idx\n",
    "    for i, s in enumerate(samples):\n",
    "        if pad_first: res[i, -len(s):] = LongTensor(s[-max_len:])\n",
    "        else:         res[i, :len(s):] = LongTensor(s[:max_len:])\n",
    "    return res\n",
    "\n",
    "def collate(batch):\n",
    "    \"\"\"First transforms the shape of a batch, then fix the sizes and convert to a torch long tensor.\"\"\"\n",
    "    batch = list(zip(*batch))\n",
    "    X, Y = pad_x(batch[0], pad_first=False), batch[1]\n",
    "    return X, (LongTensor(Y) if use_two_classes else FloatTensor(Y))"
   ]
  },
  {
   "cell_type": "code",
   "execution_count": 34,
   "metadata": {},
   "outputs": [],
   "source": [
    "def create_databunch(path, cache_name, max_seq_len, collate_fn=collate, num_workers=0):\n",
    "    train_set = TextDataset(path=path, cache_name=cache_name, max_seq_len=max_seq_len, train=True)\n",
    "    print(40*'-')\n",
    "    valid_set = TextDataset(path=path, cache_name=cache_name, max_seq_len=max_seq_len, valid=True)\n",
    "    \n",
    "    # train_samp = SortishSampler(train_set, lambda x: len(train_set[x][0]), bs=bs)\n",
    "    # valid_samp = SortSampler(valid_set, lambda x: len(valid_set[x][0]))\n",
    "    \n",
    "    train_loader = DataLoader(train_set, batch_size=bs, shuffle=True , num_workers=num_workers)\n",
    "    valid_loader = DataLoader(valid_set, batch_size=bs, shuffle=False, num_workers=num_workers)\n",
    "    \n",
    "    return DataBunch(train_dl=train_loader, valid_dl=valid_loader, collate_fn=collate_fn, path=path)"
   ]
  },
  {
   "cell_type": "markdown",
   "metadata": {},
   "source": [
    "## Step 1: LM (wiki103)"
   ]
  },
  {
   "cell_type": "code",
   "execution_count": 36,
   "metadata": {},
   "outputs": [],
   "source": [
    "path = Path('data')\n",
    "cache_name = 'LM-WIKI103'\n",
    "cache_path = path/cache_name"
   ]
  },
  {
   "cell_type": "code",
   "execution_count": 37,
   "metadata": {},
   "outputs": [],
   "source": [
    "bs = 60"
   ]
  },
  {
   "cell_type": "code",
   "execution_count": 38,
   "metadata": {},
   "outputs": [],
   "source": [
    "databunch = TextLMDataBunch.load(path=path, cache_name=cache_name, bs=bs)"
   ]
  },
  {
   "cell_type": "code",
   "execution_count": 39,
   "metadata": {},
   "outputs": [],
   "source": [
    "# p_emb, p_att, p_ff, p_res, p_out\n",
    "drops = [0.1, 0.1, 0.1, 0.1, 0.1]"
   ]
  },
  {
   "cell_type": "code",
   "execution_count": 40,
   "metadata": {},
   "outputs": [],
   "source": [
    "learner = create_lm(databunch, N=2, d_model=512, d_ff=1024, h=8, p_drop=drops, tie_weights=True, use_concat=False, use_msk=True, learned_pos=False, fp_16=True)"
   ]
  },
  {
   "cell_type": "code",
   "execution_count": 119,
   "metadata": {},
   "outputs": [
    {
     "data": {
      "text/plain": [
       "======================================================================\n",
       "Layer (type)         Output Shape         Param #    Trainable \n",
       "======================================================================\n",
       "Embedding            [1, 70, 512]         25,732,096 True      \n",
       "______________________________________________________________________\n",
       "Dropout              [1, 70, 512]         0          False     \n",
       "______________________________________________________________________\n",
       "PositionalEncoding   [70, 512]            0          False     \n",
       "______________________________________________________________________\n",
       "Dropout              [1, 70, 512]         0          False     \n",
       "______________________________________________________________________\n",
       "LayerNorm            [1, 70, 512]         1,024      True      \n",
       "______________________________________________________________________\n",
       "GeLU                 [1, 70, 512]         0          False     \n",
       "______________________________________________________________________\n",
       "Linear               [1, 70, 512]         262,656    True      \n",
       "______________________________________________________________________\n",
       "Linear               [1, 70, 512]         262,656    True      \n",
       "______________________________________________________________________\n",
       "Linear               [1, 70, 512]         262,656    True      \n",
       "______________________________________________________________________\n",
       "Softmax              [1, 8, 70, 70]       0          False     \n",
       "______________________________________________________________________\n",
       "Dropout              [1, 8, 70, 70]       0          False     \n",
       "______________________________________________________________________\n",
       "Linear               [1, 70, 512]         262,656    True      \n",
       "______________________________________________________________________\n",
       "Dropout              [1, 70, 512]         0          False     \n",
       "______________________________________________________________________\n",
       "LayerNorm            [1, 70, 512]         1,024      True      \n",
       "______________________________________________________________________\n",
       "GeLU                 [1, 70, 512]         0          False     \n",
       "______________________________________________________________________\n",
       "Linear               [1, 70, 1024]        525,312    True      \n",
       "______________________________________________________________________\n",
       "LayerNorm            [1, 70, 1024]        2,048      True      \n",
       "______________________________________________________________________\n",
       "GeLU                 [1, 70, 1024]        0          False     \n",
       "______________________________________________________________________\n",
       "Dropout              [1, 70, 1024]        0          False     \n",
       "______________________________________________________________________\n",
       "Linear               [1, 70, 512]         524,800    True      \n",
       "______________________________________________________________________\n",
       "Dropout              [1, 70, 512]         0          False     \n",
       "______________________________________________________________________\n",
       "LayerNorm            [1, 70, 512]         1,024      True      \n",
       "______________________________________________________________________\n",
       "GeLU                 [1, 70, 512]         0          False     \n",
       "______________________________________________________________________\n",
       "Linear               [1, 70, 512]         262,656    True      \n",
       "______________________________________________________________________\n",
       "Linear               [1, 70, 512]         262,656    True      \n",
       "______________________________________________________________________\n",
       "Linear               [1, 70, 512]         262,656    True      \n",
       "______________________________________________________________________\n",
       "Softmax              [1, 8, 70, 70]       0          False     \n",
       "______________________________________________________________________\n",
       "Dropout              [1, 8, 70, 70]       0          False     \n",
       "______________________________________________________________________\n",
       "Linear               [1, 70, 512]         262,656    True      \n",
       "______________________________________________________________________\n",
       "Dropout              [1, 70, 512]         0          False     \n",
       "______________________________________________________________________\n",
       "LayerNorm            [1, 70, 512]         1,024      True      \n",
       "______________________________________________________________________\n",
       "GeLU                 [1, 70, 512]         0          False     \n",
       "______________________________________________________________________\n",
       "Linear               [1, 70, 1024]        525,312    True      \n",
       "______________________________________________________________________\n",
       "LayerNorm            [1, 70, 1024]        2,048      True      \n",
       "______________________________________________________________________\n",
       "GeLU                 [1, 70, 1024]        0          False     \n",
       "______________________________________________________________________\n",
       "Dropout              [1, 70, 1024]        0          False     \n",
       "______________________________________________________________________\n",
       "Linear               [1, 70, 512]         524,800    True      \n",
       "______________________________________________________________________\n",
       "Dropout              [1, 70, 512]         0          False     \n",
       "______________________________________________________________________\n",
       "LayerNorm            [1, 70, 512]         1,024      True      \n",
       "______________________________________________________________________\n",
       "GeLU                 [1, 70, 512]         0          False     \n",
       "______________________________________________________________________\n",
       "Linear               [1, 70, 50258]       25,782,354 True      \n",
       "______________________________________________________________________\n",
       "\n",
       "Total params: 55,725,138\n",
       "Total trainable params: 55,725,138\n",
       "Total non-trainable params: 0"
      ]
     },
     "execution_count": 119,
     "metadata": {},
     "output_type": "execute_result"
    }
   ],
   "source": [
    "learner.summary()"
   ]
  },
  {
   "cell_type": "code",
   "execution_count": 37,
   "metadata": {},
   "outputs": [
    {
     "name": "stdout",
     "output_type": "stream",
     "text": [
      "Allocated:\t0.07 GB\n",
      "Max Allocated:\t0.2 GB\n",
      "Cached:\t\t0.2 GB\n",
      "Max Cached:\t0.2 GB\n"
     ]
    }
   ],
   "source": [
    "get_mem()"
   ]
  },
  {
   "cell_type": "code",
   "execution_count": 41,
   "metadata": {},
   "outputs": [
    {
     "data": {
      "text/html": [],
      "text/plain": [
       "<IPython.core.display.HTML object>"
      ]
     },
     "metadata": {},
     "output_type": "display_data"
    },
    {
     "name": "stdout",
     "output_type": "stream",
     "text": [
      "LR Finder is complete, type {learner_name}.recorder.plot() to see the graph.\n"
     ]
    }
   ],
   "source": [
    "learner.lr_find(start_lr=1e-7)"
   ]
  },
  {
   "cell_type": "code",
   "execution_count": 39,
   "metadata": {},
   "outputs": [
    {
     "data": {
      "image/png": "[encoded data removed]",
      "text/plain": [
       "<Figure size 432x288 with 1 Axes>"
      ]
     },
     "metadata": {
      "needs_background": "light"
     },
     "output_type": "display_data"
    }
   ],
   "source": [
    "learner.recorder.plot(skip_end=0)"
   ]
  },
  {
   "cell_type": "code",
   "execution_count": 37,
   "metadata": {},
   "outputs": [
    {
     "data": {
      "text/html": [
       "Total time: 1:38:38 <p><table style='width:375px; margin-bottom:10px'>\n",
       "  <tr>\n",
       "    <th>epoch</th>\n",
       "    <th>train_loss</th>\n",
       "    <th>valid_loss</th>\n",
       "    <th>accuracy</th>\n",
       "    <th>time</th>\n",
       "  </tr>\n",
       "  <tr>\n",
       "    <th>0</th>\n",
       "    <th>4.345399</th>\n",
       "    <th>4.058386</th>\n",
       "    <th>0.327006</th>\n",
       "    <th>1:38:38</th>\n",
       "  </tr>\n",
       "</table>\n"
      ],
      "text/plain": [
       "<IPython.core.display.HTML object>"
      ]
     },
     "metadata": {},
     "output_type": "display_data"
    }
   ],
   "source": [
    "learner.fit_one_cycle(cyc_len=1, max_lr=7e-3, wd=0.1)"
   ]
  },
  {
   "cell_type": "code",
   "execution_count": 38,
   "metadata": {},
   "outputs": [],
   "source": [
    "learner.save('test_W__1')"
   ]
  },
  {
   "cell_type": "code",
   "execution_count": 40,
   "metadata": {},
   "outputs": [
    {
     "data": {
      "text/html": [
       "Total time: 1:32:50 <p><table style='width:375px; margin-bottom:10px'>\n",
       "  <tr>\n",
       "    <th>epoch</th>\n",
       "    <th>train_loss</th>\n",
       "    <th>valid_loss</th>\n",
       "    <th>accuracy</th>\n",
       "    <th>time</th>\n",
       "  </tr>\n",
       "  <tr>\n",
       "    <th>0</th>\n",
       "    <th>4.897072</th>\n",
       "    <th>4.635574</th>\n",
       "    <th>0.276559</th>\n",
       "    <th>1:32:50</th>\n",
       "  </tr>\n",
       "</table>\n"
      ],
      "text/plain": [
       "<IPython.core.display.HTML object>"
      ]
     },
     "metadata": {},
     "output_type": "display_data"
    }
   ],
   "source": [
    "learner.fit_one_cycle(cyc_len=1, max_lr=7e-3, wd=0.1)"
   ]
  },
  {
   "cell_type": "code",
   "execution_count": 41,
   "metadata": {},
   "outputs": [],
   "source": [
    "learner.save('test___1')"
   ]
  },
  {
   "cell_type": "code",
   "execution_count": 40,
   "metadata": {},
   "outputs": [
    {
     "name": "stdout",
     "output_type": "stream",
     "text": [
      "Hi Ann women 's follow to their newborn mother , who is shown as a very difficult case . There is no evidence to which they approach you to see their work . \n",
      " The weddings is not prevalent as are in reality . The first attack is in coming from the Catholic family to the Elway , which will obtain expressions and two of them , including with some neighbours on the deportation ; thus further those in homosexual in the wives and stones dinner about other hundreds as biblical . dead all their Calling at those\n"
     ]
    }
   ],
   "source": [
    "print(predict(learner, enc, 'Hi', 100))"
   ]
  },
  {
   "cell_type": "code",
   "execution_count": 112,
   "metadata": {},
   "outputs": [
    {
     "data": {
      "text/plain": [
       "Transformer(\n",
       "  (emb): EmbeddingLayer(\n",
       "    (embed): Embedding(50258, 512)\n",
       "    (emb_drop): Dropout(p=0.1)\n",
       "    (pe): PositionalEncoding()\n",
       "    (pe_drop): Dropout(p=0.1)\n",
       "  )\n",
       "  (enc_dec): Encoder(\n",
       "    (layers): ModuleList(\n",
       "      (0): EncoderLayer(\n",
       "        (L0): Multiattn(\n",
       "          (norm): LayerNorm(torch.Size([512]), eps=1e-05, elementwise_affine=True)\n",
       "          (actv): GeLU()\n",
       "          (MQ): Linear(in_features=512, out_features=512, bias=True)\n",
       "          (MK): Linear(in_features=512, out_features=512, bias=True)\n",
       "          (MV): Linear(in_features=512, out_features=512, bias=True)\n",
       "          (Softmax): Softmax()\n",
       "          (att_drop): Dropout(p=0.1)\n",
       "          (MO): Linear(in_features=512, out_features=512, bias=True)\n",
       "          (res_drop): Dropout(p=0.1)\n",
       "        )\n",
       "        (L1): Feedforward(\n",
       "          (layers): Sequential(\n",
       "            (0): LayerNorm(torch.Size([512]), eps=1e-05, elementwise_affine=True)\n",
       "            (1): GeLU()\n",
       "            (2): Linear(in_features=512, out_features=1024, bias=True)\n",
       "            (3): LayerNorm(torch.Size([1024]), eps=1e-05, elementwise_affine=True)\n",
       "            (4): GeLU()\n",
       "            (5): Dropout(p=0.1)\n",
       "            (6): Linear(in_features=1024, out_features=512, bias=True)\n",
       "            (7): Dropout(p=0.1)\n",
       "          )\n",
       "        )\n",
       "      )\n",
       "      (1): EncoderLayer(\n",
       "        (L0): Multiattn(\n",
       "          (norm): LayerNorm(torch.Size([512]), eps=1e-05, elementwise_affine=True)\n",
       "          (actv): GeLU()\n",
       "          (MQ): Linear(in_features=512, out_features=512, bias=True)\n",
       "          (MK): Linear(in_features=512, out_features=512, bias=True)\n",
       "          (MV): Linear(in_features=512, out_features=512, bias=True)\n",
       "          (Softmax): Softmax()\n",
       "          (att_drop): Dropout(p=0.1)\n",
       "          (MO): Linear(in_features=512, out_features=512, bias=True)\n",
       "          (res_drop): Dropout(p=0.1)\n",
       "        )\n",
       "        (L1): Feedforward(\n",
       "          (layers): Sequential(\n",
       "            (0): LayerNorm(torch.Size([512]), eps=1e-05, elementwise_affine=True)\n",
       "            (1): GeLU()\n",
       "            (2): Linear(in_features=512, out_features=1024, bias=True)\n",
       "            (3): LayerNorm(torch.Size([1024]), eps=1e-05, elementwise_affine=True)\n",
       "            (4): GeLU()\n",
       "            (5): Dropout(p=0.1)\n",
       "            (6): Linear(in_features=1024, out_features=512, bias=True)\n",
       "            (7): Dropout(p=0.1)\n",
       "          )\n",
       "        )\n",
       "      )\n",
       "    )\n",
       "  )\n",
       "  (final): FinalLayer(\n",
       "    (layers): Sequential(\n",
       "      (0): LayerNorm(torch.Size([512]), eps=1e-05, elementwise_affine=True)\n",
       "      (1): GeLU()\n",
       "      (2): Linear(in_features=512, out_features=50258, bias=True)\n",
       "    )\n",
       "  )\n",
       ")"
      ]
     },
     "execution_count": 112,
     "metadata": {},
     "output_type": "execute_result"
    }
   ],
   "source": [
    "learner.model.eval()"
   ]
  },
  {
   "cell_type": "code",
   "execution_count": 122,
   "metadata": {},
   "outputs": [
    {
     "name": "stdout",
     "output_type": "stream",
     "text": [
      "On August 26 , 2010, \n",
      " A 50-year contract , with the highest-year football win won May , moving into the final round of the season on offense in the next round . Historian Juan Juan Doris also led the league 's appearance as his 12 consecutive championship . In all of his team-manager Joe H. Aubrey was sacked by the Giants on a winner van Douglas Harris . again St and Andy R seeds Mill Henry rocket Sternfoot Davis series , Mike Peters Union athlete Chase Con , a alumni then the\n"
     ]
    }
   ],
   "source": [
    "print(predict(learner, enc, 'On August 26 , 2010, ', 100))"
   ]
  },
  {
   "cell_type": "markdown",
   "metadata": {},
   "source": [
    "## Step 2: LM (dstc7)"
   ]
  },
  {
   "cell_type": "code",
   "execution_count": 31,
   "metadata": {},
   "outputs": [],
   "source": [
    "path = Path('data')\n",
    "cache_name = 'LM-DSTC'\n",
    "cache_path = path/cache_name"
   ]
  },
  {
   "cell_type": "code",
   "execution_count": 109,
   "metadata": {},
   "outputs": [],
   "source": [
    "pretrained_path = (path/'models/test___1.pth')"
   ]
  },
  {
   "cell_type": "code",
   "execution_count": 33,
   "metadata": {},
   "outputs": [],
   "source": [
    "bs = 60"
   ]
  },
  {
   "cell_type": "code",
   "execution_count": 34,
   "metadata": {},
   "outputs": [],
   "source": [
    "databunch = TextLMDataBunch.load(path=path, cache_name=cache_name, bs=bs)"
   ]
  },
  {
   "cell_type": "code",
   "execution_count": 35,
   "metadata": {},
   "outputs": [],
   "source": [
    "# p_emb, p_att, p_ff, p_res, p_out\n",
    "drops = [0.15, 0.3, 0.3, 0.2, 0.15]"
   ]
  },
  {
   "cell_type": "code",
   "execution_count": 110,
   "metadata": {},
   "outputs": [],
   "source": [
    "learner = create_pretrained_lm(databunch, pretrained_path, N=2, d_model=512, d_ff=1024, h=8, p_drop=drops, tie_weights=True, use_concat=False, use_msk=True, learned_pos=False, fp_16=True)"
   ]
  },
  {
   "cell_type": "code",
   "execution_count": 37,
   "metadata": {},
   "outputs": [
    {
     "data": {
      "text/plain": [
       "[Sequential(\n",
       "   (0): Dropout(p=0.15)\n",
       "   (1): PositionalEncoding()\n",
       "   (2): Dropout(p=0.15)\n",
       "   (3): LayerNorm(torch.Size([512]), eps=1e-05, elementwise_affine=True)\n",
       "   (4): GeLU()\n",
       "   (5): Linear(in_features=512, out_features=512, bias=True)\n",
       "   (6): Linear(in_features=512, out_features=512, bias=True)\n",
       "   (7): Linear(in_features=512, out_features=512, bias=True)\n",
       "   (8): Softmax()\n",
       "   (9): Dropout(p=0.3)\n",
       "   (10): Linear(in_features=512, out_features=512, bias=True)\n",
       "   (11): Dropout(p=0.2)\n",
       "   (12): LayerNorm(torch.Size([512]), eps=1e-05, elementwise_affine=True)\n",
       "   (13): GeLU()\n",
       "   (14): Linear(in_features=512, out_features=1024, bias=True)\n",
       "   (15): LayerNorm(torch.Size([1024]), eps=1e-05, elementwise_affine=True)\n",
       "   (16): GeLU()\n",
       "   (17): Dropout(p=0.3)\n",
       "   (18): Linear(in_features=1024, out_features=512, bias=True)\n",
       "   (19): Dropout(p=0.2)\n",
       "   (20): LayerNorm(torch.Size([512]), eps=1e-05, elementwise_affine=True)\n",
       "   (21): GeLU()\n",
       "   (22): Linear(in_features=512, out_features=512, bias=True)\n",
       "   (23): Linear(in_features=512, out_features=512, bias=True)\n",
       "   (24): Linear(in_features=512, out_features=512, bias=True)\n",
       "   (25): Softmax()\n",
       "   (26): Dropout(p=0.3)\n",
       "   (27): Linear(in_features=512, out_features=512, bias=True)\n",
       "   (28): Dropout(p=0.2)\n",
       "   (29): LayerNorm(torch.Size([512]), eps=1e-05, elementwise_affine=True)\n",
       "   (30): GeLU()\n",
       "   (31): Linear(in_features=512, out_features=1024, bias=True)\n",
       "   (32): LayerNorm(torch.Size([1024]), eps=1e-05, elementwise_affine=True)\n",
       "   (33): GeLU()\n",
       "   (34): Dropout(p=0.3)\n",
       "   (35): Linear(in_features=1024, out_features=512, bias=True)\n",
       "   (36): Dropout(p=0.2)\n",
       "   (37): LayerNorm(torch.Size([512]), eps=1e-05, elementwise_affine=True)\n",
       "   (38): GeLU()\n",
       " ), Sequential(\n",
       "   (0): Embedding(50258, 512)\n",
       "   (1): Linear(in_features=512, out_features=50258, bias=True)\n",
       " )]"
      ]
     },
     "execution_count": 37,
     "metadata": {},
     "output_type": "execute_result"
    }
   ],
   "source": [
    "learner.layer_groups"
   ]
  },
  {
   "cell_type": "code",
   "execution_count": 38,
   "metadata": {},
   "outputs": [
    {
     "name": "stdout",
     "output_type": "stream",
     "text": [
      "Allocated:\t0.06 GB\n",
      "Max Allocated:\t0.17 GB\n",
      "Cached:\t\t0.17 GB\n",
      "Max Cached:\t0.17 GB\n"
     ]
    }
   ],
   "source": [
    "get_mem()"
   ]
  },
  {
   "cell_type": "code",
   "execution_count": 45,
   "metadata": {},
   "outputs": [],
   "source": [
    "learner.freeze()"
   ]
  },
  {
   "cell_type": "code",
   "execution_count": 46,
   "metadata": {},
   "outputs": [
    {
     "data": {
      "text/html": [],
      "text/plain": [
       "<IPython.core.display.HTML object>"
      ]
     },
     "metadata": {},
     "output_type": "display_data"
    },
    {
     "name": "stdout",
     "output_type": "stream",
     "text": [
      "LR Finder is complete, type {learner_name}.recorder.plot() to see the graph.\n"
     ]
    }
   ],
   "source": [
    "learner.lr_find(start_lr=1e-7)"
   ]
  },
  {
   "cell_type": "code",
   "execution_count": 59,
   "metadata": {},
   "outputs": [
    {
     "data": {
      "image/png": "[encoded data removed]",
      "text/plain": [
       "<Figure size 432x288 with 1 Axes>"
      ]
     },
     "metadata": {
      "needs_background": "light"
     },
     "output_type": "display_data"
    }
   ],
   "source": [
    "learner.recorder.plot(skip_end=18)"
   ]
  },
  {
   "cell_type": "code",
   "execution_count": 44,
   "metadata": {},
   "outputs": [
    {
     "data": {
      "text/html": [
       "Total time: 2:55:00 <p><table style='width:375px; margin-bottom:10px'>\n",
       "  <tr>\n",
       "    <th>epoch</th>\n",
       "    <th>train_loss</th>\n",
       "    <th>valid_loss</th>\n",
       "    <th>accuracy</th>\n",
       "    <th>time</th>\n",
       "  </tr>\n",
       "  <tr>\n",
       "    <th>0</th>\n",
       "    <th>4.876811</th>\n",
       "    <th>4.624778</th>\n",
       "    <th>0.270464</th>\n",
       "    <th>1:28:18</th>\n",
       "  </tr>\n",
       "  <tr>\n",
       "    <th>1</th>\n",
       "    <th>4.838595</th>\n",
       "    <th>4.574127</th>\n",
       "    <th>0.275759</th>\n",
       "    <th>1:26:41</th>\n",
       "  </tr>\n",
       "</table>\n"
      ],
      "text/plain": [
       "<IPython.core.display.HTML object>"
      ]
     },
     "metadata": {},
     "output_type": "display_data"
    }
   ],
   "source": [
    "learner.fit_one_cycle(cyc_len=2, max_lr=2e-4, wd=0.1)"
   ]
  },
  {
   "cell_type": "code",
   "execution_count": 45,
   "metadata": {},
   "outputs": [
    {
     "data": {
      "image/png": "[encoded data removed]",
      "text/plain": [
       "<Figure size 432x288 with 1 Axes>"
      ]
     },
     "metadata": {
      "needs_background": "light"
     },
     "output_type": "display_data"
    }
   ],
   "source": [
    "learner.recorder.plot_losses()"
   ]
  },
  {
   "cell_type": "code",
   "execution_count": 60,
   "metadata": {},
   "outputs": [
    {
     "data": {
      "text/html": [
       "Total time: 2:54:24 <p><table style='width:375px; margin-bottom:10px'>\n",
       "  <tr>\n",
       "    <th>epoch</th>\n",
       "    <th>train_loss</th>\n",
       "    <th>valid_loss</th>\n",
       "    <th>accuracy</th>\n",
       "    <th>time</th>\n",
       "  </tr>\n",
       "  <tr>\n",
       "    <th>0</th>\n",
       "    <th>4.843471</th>\n",
       "    <th>4.568416</th>\n",
       "    <th>0.276507</th>\n",
       "    <th>1:27:28</th>\n",
       "  </tr>\n",
       "  <tr>\n",
       "    <th>1</th>\n",
       "    <th>4.843523</th>\n",
       "    <th>4.564195</th>\n",
       "    <th>0.276786</th>\n",
       "    <th>1:26:55</th>\n",
       "  </tr>\n",
       "</table>\n"
      ],
      "text/plain": [
       "<IPython.core.display.HTML object>"
      ]
     },
     "metadata": {},
     "output_type": "display_data"
    }
   ],
   "source": [
    "learner.fit_one_cycle(cyc_len=2, max_lr=2e-5, wd=0.1)"
   ]
  },
  {
   "cell_type": "code",
   "execution_count": 61,
   "metadata": {},
   "outputs": [
    {
     "data": {
      "image/png": "[encoded data removed]",
      "text/plain": [
       "<Figure size 432x288 with 1 Axes>"
      ]
     },
     "metadata": {
      "needs_background": "light"
     },
     "output_type": "display_data"
    }
   ],
   "source": [
    "learner.recorder.plot_losses()"
   ]
  },
  {
   "cell_type": "code",
   "execution_count": 40,
   "metadata": {},
   "outputs": [
    {
     "data": {
      "text/html": [
       "Total time: 18:36 <p><table style='width:375px; margin-bottom:10px'>\n",
       "  <tr>\n",
       "    <th>epoch</th>\n",
       "    <th>train_loss</th>\n",
       "    <th>valid_loss</th>\n",
       "    <th>accuracy</th>\n",
       "    <th>time</th>\n",
       "  </tr>\n",
       "  <tr>\n",
       "    <th>0</th>\n",
       "    <th>2.962332</th>\n",
       "    <th>4.062732</th>\n",
       "    <th>0.308913</th>\n",
       "    <th>18:36</th>\n",
       "  </tr>\n",
       "</table>\n"
      ],
      "text/plain": [
       "<IPython.core.display.HTML object>"
      ]
     },
     "metadata": {},
     "output_type": "display_data"
    }
   ],
   "source": [
    "learner.fit_one_cycle(cyc_len=1, max_lr=3e-4, wd=0.2)"
   ]
  },
  {
   "cell_type": "code",
   "execution_count": 41,
   "metadata": {},
   "outputs": [
    {
     "data": {
      "image/png": "[encoded data removed]",
      "text/plain": [
       "<Figure size 432x288 with 1 Axes>"
      ]
     },
     "metadata": {
      "needs_background": "light"
     },
     "output_type": "display_data"
    }
   ],
   "source": [
    "learner.recorder.plot_losses()"
   ]
  },
  {
   "cell_type": "code",
   "execution_count": 71,
   "metadata": {},
   "outputs": [],
   "source": [
    "learner.save('test___2')"
   ]
  },
  {
   "cell_type": "code",
   "execution_count": 45,
   "metadata": {},
   "outputs": [
    {
     "name": "stdout",
     "output_type": "stream",
     "text": [
      "A: Hello advisor!\n",
      "B: Hey Casey. How can I be of service today?\n",
      "A: Which course would be best?\n",
      "A: I don't know what I am doing in this class.\n",
      "B: Is there anything amount of work for you?\n",
      "A: I'm thinking for more than 1 min?\n",
      "\n",
      "A: im trying to capture on windows using weird trying to connect to enable into my client with full connect to recovery up to helothed and connect to the wifi to figure\n"
     ]
    }
   ],
   "source": [
    "print(predict(learner, enc, 'A: Hello', 100))"
   ]
  },
  {
   "cell_type": "code",
   "execution_count": 44,
   "metadata": {},
   "outputs": [
    {
     "name": "stdout",
     "output_type": "stream",
     "text": [
      "A: Hello there.\n",
      "B: Can I help you?\n",
      "A: Can you give me some advice on next semester?\n",
      "B: Sure. What requirements did you like?\n",
      "A: I'm satisfied with the requirements.\n",
      "B: Yeah, that seems like you are very well as the MDE is easiest.\n",
      "B: EECS 445S 482S2, 470 is good2S4SS5S0S 470 is AdvancedSSS 492 courseSS2\n"
     ]
    }
   ],
   "source": [
    "print(predict(learner, enc, 'A: Hello', 100))"
   ]
  },
  {
   "cell_type": "code",
   "execution_count": 43,
   "metadata": {},
   "outputs": [
    {
     "name": "stdout",
     "output_type": "stream",
     "text": [
      "A: Hello!\n",
      "B: What can I be of assistance to you today?\n",
      "A: Which classes next semester should I take?\n",
      "B: Considering your previous courses, EECS 183 will be a good fit for you, but I'd rather take one of those classes.\n",
      "A: What else would you recommend for me to take?\n",
      "B: There are two more EECS 280 and 280 of those two of these both courses together\n",
      "B: Hi\n",
      "A: You were still three\n"
     ]
    }
   ],
   "source": [
    "print(predict(learner, enc, 'A: Hello', 100))"
   ]
  },
  {
   "cell_type": "markdown",
   "metadata": {},
   "source": [
    "## Step 3: CL (dstc7)"
   ]
  },
  {
   "cell_type": "code",
   "execution_count": 33,
   "metadata": {},
   "outputs": [],
   "source": [
    "path = Path('data')\n",
    "cache_name = 'CL'\n",
    "cache_path = path/cache_name"
   ]
  },
  {
   "cell_type": "code",
   "execution_count": 34,
   "metadata": {},
   "outputs": [],
   "source": [
    "pretrained_path = (path/'models/test___1.pth')"
   ]
  },
  {
   "cell_type": "code",
   "execution_count": 35,
   "metadata": {},
   "outputs": [],
   "source": [
    "bs = 50\n",
    "seq_len = 100\n",
    "use_two_classes = False"
   ]
  },
  {
   "cell_type": "code",
   "execution_count": 36,
   "metadata": {},
   "outputs": [
    {
     "name": "stdout",
     "output_type": "stream",
     "text": [
      "Loading: train\n",
      "Setup done: took 3.06 seconds\n",
      "----------------------------------------\n",
      "Loading: valid\n",
      "Setup done: took 0.72 seconds\n"
     ]
    }
   ],
   "source": [
    "databunch = create_databunch(path, cache_name, seq_len)"
   ]
  },
  {
   "cell_type": "code",
   "execution_count": 37,
   "metadata": {},
   "outputs": [],
   "source": [
    "# p_emb, p_att, p_ff, p_res, p_out\n",
    "drops = [0.1, 0.1, 0.1, 0.1, 0.1]"
   ]
  },
  {
   "cell_type": "code",
   "execution_count": 38,
   "metadata": {},
   "outputs": [],
   "source": [
    "learner = create_pretrained_cl(databunch, pretrained_path, N=2, d_model=512, d_ff=1024, h=8, p_drop=drops, use_concat=False, learned_pos=False, fp_16=True)"
   ]
  },
  {
   "cell_type": "code",
   "execution_count": 39,
   "metadata": {},
   "outputs": [
    {
     "name": "stdout",
     "output_type": "stream",
     "text": [
      "Allocated:\t0.07 GB\n",
      "Max Allocated:\t0.18 GB\n",
      "Cached:\t\t0.18 GB\n",
      "Max Cached:\t0.18 GB\n"
     ]
    }
   ],
   "source": [
    "get_mem()"
   ]
  },
  {
   "cell_type": "code",
   "execution_count": 40,
   "metadata": {},
   "outputs": [
    {
     "data": {
      "text/plain": [
       "======================================================================\n",
       "Layer (type)         Output Shape         Param #    Trainable \n",
       "======================================================================\n",
       "Embedding            [1, 100, 512]        25,732,096 True      \n",
       "______________________________________________________________________\n",
       "Dropout              [1, 100, 512]        0          False     \n",
       "______________________________________________________________________\n",
       "PositionalEncoding   [100, 512]           0          False     \n",
       "______________________________________________________________________\n",
       "Dropout              [1, 100, 512]        0          False     \n",
       "______________________________________________________________________\n",
       "LayerNorm            [1, 100, 512]        1,024      True      \n",
       "______________________________________________________________________\n",
       "GeLU                 [1, 100, 512]        0          False     \n",
       "______________________________________________________________________\n",
       "Linear               [1, 100, 512]        262,656    True      \n",
       "______________________________________________________________________\n",
       "Linear               [1, 100, 512]        262,656    True      \n",
       "______________________________________________________________________\n",
       "Linear               [1, 100, 512]        262,656    True      \n",
       "______________________________________________________________________\n",
       "Softmax              [1, 8, 100, 100]     0          False     \n",
       "______________________________________________________________________\n",
       "Dropout              [1, 8, 100, 100]     0          False     \n",
       "______________________________________________________________________\n",
       "Linear               [1, 100, 512]        262,656    True      \n",
       "______________________________________________________________________\n",
       "Dropout              [1, 100, 512]        0          False     \n",
       "______________________________________________________________________\n",
       "LayerNorm            [1, 100, 512]        1,024      True      \n",
       "______________________________________________________________________\n",
       "GeLU                 [1, 100, 512]        0          False     \n",
       "______________________________________________________________________\n",
       "Linear               [1, 100, 1024]       525,312    True      \n",
       "______________________________________________________________________\n",
       "LayerNorm            [1, 100, 1024]       2,048      True      \n",
       "______________________________________________________________________\n",
       "GeLU                 [1, 100, 1024]       0          False     \n",
       "______________________________________________________________________\n",
       "Dropout              [1, 100, 1024]       0          False     \n",
       "______________________________________________________________________\n",
       "Linear               [1, 100, 512]        524,800    True      \n",
       "______________________________________________________________________\n",
       "Dropout              [1, 100, 512]        0          False     \n",
       "______________________________________________________________________\n",
       "LayerNorm            [1, 100, 512]        1,024      True      \n",
       "______________________________________________________________________\n",
       "GeLU                 [1, 100, 512]        0          False     \n",
       "______________________________________________________________________\n",
       "Linear               [1, 100, 512]        262,656    True      \n",
       "______________________________________________________________________\n",
       "Linear               [1, 100, 512]        262,656    True      \n",
       "______________________________________________________________________\n",
       "Linear               [1, 100, 512]        262,656    True      \n",
       "______________________________________________________________________\n",
       "Softmax              [1, 8, 100, 100]     0          False     \n",
       "______________________________________________________________________\n",
       "Dropout              [1, 8, 100, 100]     0          False     \n",
       "______________________________________________________________________\n",
       "Linear               [1, 100, 512]        262,656    True      \n",
       "______________________________________________________________________\n",
       "Dropout              [1, 100, 512]        0          False     \n",
       "______________________________________________________________________\n",
       "LayerNorm            [1, 100, 512]        1,024      True      \n",
       "______________________________________________________________________\n",
       "GeLU                 [1, 100, 512]        0          False     \n",
       "______________________________________________________________________\n",
       "Linear               [1, 100, 1024]       525,312    True      \n",
       "______________________________________________________________________\n",
       "LayerNorm            [1, 100, 1024]       2,048      True      \n",
       "______________________________________________________________________\n",
       "GeLU                 [1, 100, 1024]       0          False     \n",
       "______________________________________________________________________\n",
       "Dropout              [1, 100, 1024]       0          False     \n",
       "______________________________________________________________________\n",
       "Linear               [1, 100, 512]        524,800    True      \n",
       "______________________________________________________________________\n",
       "Dropout              [1, 100, 512]        0          False     \n",
       "______________________________________________________________________\n",
       "LayerNorm            [1, 51200]           102,400    True      \n",
       "______________________________________________________________________\n",
       "GeLU                 [1, 51200]           0          False     \n",
       "______________________________________________________________________\n",
       "Linear               [1, 50]              2,560,050  True      \n",
       "______________________________________________________________________\n",
       "LayerNorm            [1, 50]              100        True      \n",
       "______________________________________________________________________\n",
       "GeLU                 [1, 50]              0          False     \n",
       "______________________________________________________________________\n",
       "Dropout              [1, 50]              0          False     \n",
       "______________________________________________________________________\n",
       "Linear               [1, 1]               51         True      \n",
       "______________________________________________________________________\n",
       "\n",
       "Total params: 32,604,361\n",
       "Total trainable params: 32,604,361\n",
       "Total non-trainable params: 0"
      ]
     },
     "execution_count": 40,
     "metadata": {},
     "output_type": "execute_result"
    }
   ],
   "source": [
    "learner.summary()"
   ]
  },
  {
   "cell_type": "code",
   "execution_count": 41,
   "metadata": {},
   "outputs": [],
   "source": [
    "learner.freeze()"
   ]
  },
  {
   "cell_type": "code",
   "execution_count": 48,
   "metadata": {},
   "outputs": [
    {
     "data": {
      "text/html": [],
      "text/plain": [
       "<IPython.core.display.HTML object>"
      ]
     },
     "metadata": {},
     "output_type": "display_data"
    },
    {
     "name": "stdout",
     "output_type": "stream",
     "text": [
      "LR Finder is complete, type {learner_name}.recorder.plot() to see the graph.\n"
     ]
    }
   ],
   "source": [
    "learner.lr_find(start_lr=1e-7)"
   ]
  },
  {
   "cell_type": "code",
   "execution_count": 49,
   "metadata": {},
   "outputs": [
    {
     "data": {
      "image/png": "[encoded data removed]",
      "text/plain": [
       "<Figure size 432x288 with 1 Axes>"
      ]
     },
     "metadata": {
      "needs_background": "light"
     },
     "output_type": "display_data"
    }
   ],
   "source": [
    "learner.recorder.plot(skip_end=12)"
   ]
  },
  {
   "cell_type": "code",
   "execution_count": 50,
   "metadata": {},
   "outputs": [
    {
     "data": {
      "text/html": [
       "Total time: 01:46 <p><table style='width:375px; margin-bottom:10px'>\n",
       "  <tr>\n",
       "    <th>epoch</th>\n",
       "    <th>train_loss</th>\n",
       "    <th>valid_loss</th>\n",
       "    <th>acc</th>\n",
       "    <th>time</th>\n",
       "  </tr>\n",
       "  <tr>\n",
       "    <th>0</th>\n",
       "    <th>0.693067</th>\n",
       "    <th>0.693482</th>\n",
       "    <th>0.490553</th>\n",
       "    <th>01:46</th>\n",
       "  </tr>\n",
       "</table>\n"
      ],
      "text/plain": [
       "<IPython.core.display.HTML object>"
      ]
     },
     "metadata": {},
     "output_type": "display_data"
    }
   ],
   "source": [
    "learner.fit_one_cycle(cyc_len=1, max_lr=1e-2, wd=0.01)"
   ]
  },
  {
   "cell_type": "code",
   "execution_count": 51,
   "metadata": {},
   "outputs": [
    {
     "data": {
      "image/png": "[encoded data removed]",
      "text/plain": [
       "<Figure size 432x288 with 1 Axes>"
      ]
     },
     "metadata": {
      "needs_background": "light"
     },
     "output_type": "display_data"
    }
   ],
   "source": [
    "learner.recorder.plot_losses()"
   ]
  },
  {
   "cell_type": "code",
   "execution_count": 53,
   "metadata": {},
   "outputs": [
    {
     "data": {
      "image/png": "[encoded data removed]",
      "text/plain": [
       "<Figure size 432x288 with 1 Axes>"
      ]
     },
     "metadata": {
      "needs_background": "light"
     },
     "output_type": "display_data"
    }
   ],
   "source": [
    "learner.recorder.plot_losses()"
   ]
  },
  {
   "cell_type": "code",
   "execution_count": 52,
   "metadata": {},
   "outputs": [],
   "source": [
    "learner.unfreeze()"
   ]
  },
  {
   "cell_type": "code",
   "execution_count": 53,
   "metadata": {},
   "outputs": [
    {
     "data": {
      "text/html": [],
      "text/plain": [
       "<IPython.core.display.HTML object>"
      ]
     },
     "metadata": {},
     "output_type": "display_data"
    },
    {
     "name": "stdout",
     "output_type": "stream",
     "text": [
      "LR Finder is complete, type {learner_name}.recorder.plot() to see the graph.\n"
     ]
    }
   ],
   "source": [
    "learner.lr_find(start_lr=1e-15)"
   ]
  },
  {
   "cell_type": "code",
   "execution_count": 58,
   "metadata": {},
   "outputs": [
    {
     "data": {
      "image/png": "[encoded data removed]",
      "text/plain": [
       "<Figure size 432x288 with 1 Axes>"
      ]
     },
     "metadata": {
      "needs_background": "light"
     },
     "output_type": "display_data"
    }
   ],
   "source": [
    "learner.recorder.plot(skip_end=2)"
   ]
  },
  {
   "cell_type": "code",
   "execution_count": 59,
   "metadata": {},
   "outputs": [
    {
     "data": {
      "text/html": [
       "Total time: 25:57 <p><table style='width:375px; margin-bottom:10px'>\n",
       "  <tr>\n",
       "    <th>epoch</th>\n",
       "    <th>train_loss</th>\n",
       "    <th>valid_loss</th>\n",
       "    <th>acc</th>\n",
       "    <th>time</th>\n",
       "  </tr>\n",
       "  <tr>\n",
       "    <th>0</th>\n",
       "    <th>0.692868</th>\n",
       "    <th>0.693389</th>\n",
       "    <th>0.495171</th>\n",
       "    <th>05:09</th>\n",
       "  </tr>\n",
       "  <tr>\n",
       "    <th>1</th>\n",
       "    <th>0.689896</th>\n",
       "    <th>0.691309</th>\n",
       "    <th>0.499127</th>\n",
       "    <th>05:18</th>\n",
       "  </tr>\n",
       "  <tr>\n",
       "    <th>2</th>\n",
       "    <th>0.687009</th>\n",
       "    <th>0.692853</th>\n",
       "    <th>0.498844</th>\n",
       "    <th>05:09</th>\n",
       "  </tr>\n",
       "  <tr>\n",
       "    <th>3</th>\n",
       "    <th>0.686371</th>\n",
       "    <th>0.692132</th>\n",
       "    <th>0.500800</th>\n",
       "    <th>05:11</th>\n",
       "  </tr>\n",
       "  <tr>\n",
       "    <th>4</th>\n",
       "    <th>0.684911</th>\n",
       "    <th>0.691721</th>\n",
       "    <th>0.497709</th>\n",
       "    <th>05:08</th>\n",
       "  </tr>\n",
       "</table>\n"
      ],
      "text/plain": [
       "<IPython.core.display.HTML object>"
      ]
     },
     "metadata": {},
     "output_type": "display_data"
    }
   ],
   "source": [
    "learner.fit_one_cycle(cyc_len=5, max_lr=slice(1e-5, 5e-4), wd=0.01)"
   ]
  },
  {
   "cell_type": "code",
   "execution_count": 60,
   "metadata": {},
   "outputs": [
    {
     "data": {
      "image/png": "[encoded data removed]",
      "text/plain": [
       "<Figure size 432x288 with 1 Axes>"
      ]
     },
     "metadata": {
      "needs_background": "light"
     },
     "output_type": "display_data"
    }
   ],
   "source": [
    "learner.recorder.plot_losses()"
   ]
  },
  {
   "cell_type": "code",
   "execution_count": 191,
   "metadata": {},
   "outputs": [
    {
     "data": {
      "text/html": [],
      "text/plain": [
       "<IPython.core.display.HTML object>"
      ]
     },
     "metadata": {},
     "output_type": "display_data"
    },
    {
     "name": "stdout",
     "output_type": "stream",
     "text": [
      "LR Finder is complete, type {learner_name}.recorder.plot() to see the graph.\n"
     ]
    }
   ],
   "source": [
    "learner.lr_find(start_lr=1e-15)"
   ]
  },
  {
   "cell_type": "code",
   "execution_count": 192,
   "metadata": {},
   "outputs": [
    {
     "data": {
      "image/png": "[encoded data removed]",
      "text/plain": [
       "<Figure size 432x288 with 1 Axes>"
      ]
     },
     "metadata": {
      "needs_background": "light"
     },
     "output_type": "display_data"
    }
   ],
   "source": [
    "learner.recorder.plot(skip_end=0)"
   ]
  },
  {
   "cell_type": "code",
   "execution_count": 193,
   "metadata": {},
   "outputs": [
    {
     "data": {
      "text/html": [
       "Total time: 25:16 <p><table style='width:375px; margin-bottom:10px'>\n",
       "  <tr>\n",
       "    <th>epoch</th>\n",
       "    <th>train_loss</th>\n",
       "    <th>valid_loss</th>\n",
       "    <th>acc</th>\n",
       "    <th>time</th>\n",
       "  </tr>\n",
       "  <tr>\n",
       "    <th>0</th>\n",
       "    <th>0.686182</th>\n",
       "    <th>0.692016</th>\n",
       "    <th>0.500429</th>\n",
       "    <th>05:02</th>\n",
       "  </tr>\n",
       "  <tr>\n",
       "    <th>1</th>\n",
       "    <th>0.676873</th>\n",
       "    <th>0.687127</th>\n",
       "    <th>0.499462</th>\n",
       "    <th>05:03</th>\n",
       "  </tr>\n",
       "  <tr>\n",
       "    <th>2</th>\n",
       "    <th>0.662322</th>\n",
       "    <th>0.689305</th>\n",
       "    <th>0.497331</th>\n",
       "    <th>05:03</th>\n",
       "  </tr>\n",
       "  <tr>\n",
       "    <th>3</th>\n",
       "    <th>0.664028</th>\n",
       "    <th>0.680713</th>\n",
       "    <th>0.501098</th>\n",
       "    <th>05:04</th>\n",
       "  </tr>\n",
       "  <tr>\n",
       "    <th>4</th>\n",
       "    <th>0.658302</th>\n",
       "    <th>0.679464</th>\n",
       "    <th>0.504116</th>\n",
       "    <th>05:03</th>\n",
       "  </tr>\n",
       "</table>\n"
      ],
      "text/plain": [
       "<IPython.core.display.HTML object>"
      ]
     },
     "metadata": {},
     "output_type": "display_data"
    }
   ],
   "source": [
    "learner.fit_one_cycle(cyc_len=5, max_lr=slice(1e-5, 1e-4), wd=0.1)"
   ]
  },
  {
   "cell_type": "code",
   "execution_count": 194,
   "metadata": {},
   "outputs": [
    {
     "data": {
      "image/png": "[encoded data removed]",
      "text/plain": [
       "<Figure size 432x288 with 1 Axes>"
      ]
     },
     "metadata": {
      "needs_background": "light"
     },
     "output_type": "display_data"
    }
   ],
   "source": [
    "learner.recorder.plot_losses()"
   ]
  },
  {
   "cell_type": "code",
   "execution_count": 203,
   "metadata": {},
   "outputs": [
    {
     "data": {
      "text/html": [],
      "text/plain": [
       "<IPython.core.display.HTML object>"
      ]
     },
     "metadata": {},
     "output_type": "display_data"
    },
    {
     "name": "stdout",
     "output_type": "stream",
     "text": [
      "LR Finder is complete, type {learner_name}.recorder.plot() to see the graph.\n"
     ]
    }
   ],
   "source": [
    "learner.lr_find(start_lr=1e-15)"
   ]
  },
  {
   "cell_type": "code",
   "execution_count": 211,
   "metadata": {},
   "outputs": [
    {
     "data": {
      "image/png": "[encoded data removed]",
      "text/plain": [
       "<Figure size 432x288 with 1 Axes>"
      ]
     },
     "metadata": {
      "needs_background": "light"
     },
     "output_type": "display_data"
    }
   ],
   "source": [
    "learner.recorder.plot(skip_end=2)"
   ]
  },
  {
   "cell_type": "code",
   "execution_count": 212,
   "metadata": {},
   "outputs": [
    {
     "data": {
      "text/html": [
       "\n",
       "    <div>\n",
       "        <style>\n",
       "            /* Turns off some styling */\n",
       "            progress {\n",
       "                /* gets rid of default border in Firefox and Opera. */\n",
       "                border: none;\n",
       "                /* Needs to be in here for Safari polyfill so background images work as expected. */\n",
       "                background-size: auto;\n",
       "            }\n",
       "            .progress-bar-interrupted, .progress-bar-interrupted::-webkit-progress-bar {\n",
       "                background: #F44336;\n",
       "            }\n",
       "        </style>\n",
       "      <progress value='2' class='' max='5', style='width:300px; height:20px; vertical-align: middle;'></progress>\n",
       "      40.00% [2/5 10:03<15:05]\n",
       "    </div>\n",
       "    \n",
       "<table style='width:375px; margin-bottom:10px'>\n",
       "  <tr>\n",
       "    <th>epoch</th>\n",
       "    <th>train_loss</th>\n",
       "    <th>valid_loss</th>\n",
       "    <th>acc</th>\n",
       "    <th>time</th>\n",
       "  </tr>\n",
       "  <tr>\n",
       "    <th>0</th>\n",
       "    <th>nan</th>\n",
       "    <th>0.693147</th>\n",
       "    <th>0.502364</th>\n",
       "    <th>05:00</th>\n",
       "  </tr>\n",
       "  <tr>\n",
       "    <th>1</th>\n",
       "    <th>nan</th>\n",
       "    <th>0.693147</th>\n",
       "    <th>0.500000</th>\n",
       "    <th>05:03</th>\n",
       "  </tr>\n",
       "</table>\n",
       "\n",
       "\n",
       "    <div>\n",
       "        <style>\n",
       "            /* Turns off some styling */\n",
       "            progress {\n",
       "                /* gets rid of default border in Firefox and Opera. */\n",
       "                border: none;\n",
       "                /* Needs to be in here for Safari polyfill so background images work as expected. */\n",
       "                background-size: auto;\n",
       "            }\n",
       "            .progress-bar-interrupted, .progress-bar-interrupted::-webkit-progress-bar {\n",
       "                background: #F44336;\n",
       "            }\n",
       "        </style>\n",
       "      <progress value='0' class='progress-bar-interrupted' max='4000', style='width:300px; height:20px; vertical-align: middle;'></progress>\n",
       "      Interrupted\n",
       "    </div>\n",
       "    "
      ],
      "text/plain": [
       "<IPython.core.display.HTML object>"
      ]
     },
     "metadata": {},
     "output_type": "display_data"
    },
    {
     "ename": "KeyboardInterrupt",
     "evalue": "",
     "output_type": "error",
     "traceback": [
      "\u001b[1;31m---------------------------------------------------------------------------\u001b[0m",
      "\u001b[1;31mKeyboardInterrupt\u001b[0m                         Traceback (most recent call last)",
      "\u001b[1;32m<ipython-input-212-9db07d4c89ad>\u001b[0m in \u001b[0;36m<module>\u001b[1;34m\u001b[0m\n\u001b[1;32m----> 1\u001b[1;33m \u001b[0mlearner\u001b[0m\u001b[1;33m.\u001b[0m\u001b[0mfit_one_cycle\u001b[0m\u001b[1;33m(\u001b[0m\u001b[0mcyc_len\u001b[0m\u001b[1;33m=\u001b[0m\u001b[1;36m5\u001b[0m\u001b[1;33m,\u001b[0m \u001b[0mmax_lr\u001b[0m\u001b[1;33m=\u001b[0m\u001b[1;36m1e-1\u001b[0m\u001b[1;33m,\u001b[0m \u001b[0mwd\u001b[0m\u001b[1;33m=\u001b[0m\u001b[1;36m0.1\u001b[0m\u001b[1;33m)\u001b[0m\u001b[1;33m\u001b[0m\u001b[1;33m\u001b[0m\u001b[0m\n\u001b[0m",
      "\u001b[1;32mC:\\Anaconda\\envs\\tr100\\lib\\site-packages\\fastai\\train.py\u001b[0m in \u001b[0;36mfit_one_cycle\u001b[1;34m(learn, cyc_len, max_lr, moms, div_factor, pct_start, final_div, wd, callbacks, tot_epochs, start_epoch)\u001b[0m\n\u001b[0;32m     20\u001b[0m     callbacks.append(OneCycleScheduler(learn, max_lr, moms=moms, div_factor=div_factor, pct_start=pct_start,\n\u001b[0;32m     21\u001b[0m                                        final_div=final_div, tot_epochs=tot_epochs, start_epoch=start_epoch))\n\u001b[1;32m---> 22\u001b[1;33m     \u001b[0mlearn\u001b[0m\u001b[1;33m.\u001b[0m\u001b[0mfit\u001b[0m\u001b[1;33m(\u001b[0m\u001b[0mcyc_len\u001b[0m\u001b[1;33m,\u001b[0m \u001b[0mmax_lr\u001b[0m\u001b[1;33m,\u001b[0m \u001b[0mwd\u001b[0m\u001b[1;33m=\u001b[0m\u001b[0mwd\u001b[0m\u001b[1;33m,\u001b[0m \u001b[0mcallbacks\u001b[0m\u001b[1;33m=\u001b[0m\u001b[0mcallbacks\u001b[0m\u001b[1;33m)\u001b[0m\u001b[1;33m\u001b[0m\u001b[1;33m\u001b[0m\u001b[0m\n\u001b[0m\u001b[0;32m     23\u001b[0m \u001b[1;33m\u001b[0m\u001b[0m\n\u001b[0;32m     24\u001b[0m \u001b[1;32mdef\u001b[0m \u001b[0mlr_find\u001b[0m\u001b[1;33m(\u001b[0m\u001b[0mlearn\u001b[0m\u001b[1;33m:\u001b[0m\u001b[0mLearner\u001b[0m\u001b[1;33m,\u001b[0m \u001b[0mstart_lr\u001b[0m\u001b[1;33m:\u001b[0m\u001b[0mFloats\u001b[0m\u001b[1;33m=\u001b[0m\u001b[1;36m1e-7\u001b[0m\u001b[1;33m,\u001b[0m \u001b[0mend_lr\u001b[0m\u001b[1;33m:\u001b[0m\u001b[0mFloats\u001b[0m\u001b[1;33m=\u001b[0m\u001b[1;36m10\u001b[0m\u001b[1;33m,\u001b[0m \u001b[0mnum_it\u001b[0m\u001b[1;33m:\u001b[0m\u001b[0mint\u001b[0m\u001b[1;33m=\u001b[0m\u001b[1;36m100\u001b[0m\u001b[1;33m,\u001b[0m \u001b[0mstop_div\u001b[0m\u001b[1;33m:\u001b[0m\u001b[0mbool\u001b[0m\u001b[1;33m=\u001b[0m\u001b[1;32mTrue\u001b[0m\u001b[1;33m,\u001b[0m \u001b[0mwd\u001b[0m\u001b[1;33m:\u001b[0m\u001b[0mfloat\u001b[0m\u001b[1;33m=\u001b[0m\u001b[1;32mNone\u001b[0m\u001b[1;33m)\u001b[0m\u001b[1;33m:\u001b[0m\u001b[1;33m\u001b[0m\u001b[1;33m\u001b[0m\u001b[0m\n",
      "\u001b[1;32mC:\\Anaconda\\envs\\tr100\\lib\\site-packages\\fastai\\basic_train.py\u001b[0m in \u001b[0;36mfit\u001b[1;34m(self, epochs, lr, wd, callbacks)\u001b[0m\n\u001b[0;32m    189\u001b[0m         \u001b[1;32mif\u001b[0m \u001b[0mdefaults\u001b[0m\u001b[1;33m.\u001b[0m\u001b[0mextra_callbacks\u001b[0m \u001b[1;32mis\u001b[0m \u001b[1;32mnot\u001b[0m \u001b[1;32mNone\u001b[0m\u001b[1;33m:\u001b[0m \u001b[0mcallbacks\u001b[0m \u001b[1;33m+=\u001b[0m \u001b[0mdefaults\u001b[0m\u001b[1;33m.\u001b[0m\u001b[0mextra_callbacks\u001b[0m\u001b[1;33m\u001b[0m\u001b[1;33m\u001b[0m\u001b[0m\n\u001b[0;32m    190\u001b[0m         fit(epochs, self.model, self.loss_func, opt=self.opt, data=self.data, metrics=self.metrics,\n\u001b[1;32m--> 191\u001b[1;33m             callbacks=self.callbacks+callbacks)\n\u001b[0m\u001b[0;32m    192\u001b[0m \u001b[1;33m\u001b[0m\u001b[0m\n\u001b[0;32m    193\u001b[0m     \u001b[1;32mdef\u001b[0m \u001b[0mcreate_opt\u001b[0m\u001b[1;33m(\u001b[0m\u001b[0mself\u001b[0m\u001b[1;33m,\u001b[0m \u001b[0mlr\u001b[0m\u001b[1;33m:\u001b[0m\u001b[0mFloats\u001b[0m\u001b[1;33m,\u001b[0m \u001b[0mwd\u001b[0m\u001b[1;33m:\u001b[0m\u001b[0mFloats\u001b[0m\u001b[1;33m=\u001b[0m\u001b[1;36m0.\u001b[0m\u001b[1;33m)\u001b[0m\u001b[1;33m->\u001b[0m\u001b[1;32mNone\u001b[0m\u001b[1;33m:\u001b[0m\u001b[1;33m\u001b[0m\u001b[1;33m\u001b[0m\u001b[0m\n",
      "\u001b[1;32mC:\\Anaconda\\envs\\tr100\\lib\\site-packages\\fastai\\basic_train.py\u001b[0m in \u001b[0;36mfit\u001b[1;34m(epochs, model, loss_func, opt, data, callbacks, metrics)\u001b[0m\n\u001b[0;32m     92\u001b[0m             \u001b[1;32mfor\u001b[0m \u001b[0mxb\u001b[0m\u001b[1;33m,\u001b[0m\u001b[0myb\u001b[0m \u001b[1;32min\u001b[0m \u001b[0mprogress_bar\u001b[0m\u001b[1;33m(\u001b[0m\u001b[0mdata\u001b[0m\u001b[1;33m.\u001b[0m\u001b[0mtrain_dl\u001b[0m\u001b[1;33m,\u001b[0m \u001b[0mparent\u001b[0m\u001b[1;33m=\u001b[0m\u001b[0mpbar\u001b[0m\u001b[1;33m)\u001b[0m\u001b[1;33m:\u001b[0m\u001b[1;33m\u001b[0m\u001b[1;33m\u001b[0m\u001b[0m\n\u001b[0;32m     93\u001b[0m                 \u001b[0mxb\u001b[0m\u001b[1;33m,\u001b[0m \u001b[0myb\u001b[0m \u001b[1;33m=\u001b[0m \u001b[0mcb_handler\u001b[0m\u001b[1;33m.\u001b[0m\u001b[0mon_batch_begin\u001b[0m\u001b[1;33m(\u001b[0m\u001b[0mxb\u001b[0m\u001b[1;33m,\u001b[0m \u001b[0myb\u001b[0m\u001b[1;33m)\u001b[0m\u001b[1;33m\u001b[0m\u001b[1;33m\u001b[0m\u001b[0m\n\u001b[1;32m---> 94\u001b[1;33m                 \u001b[0mloss\u001b[0m \u001b[1;33m=\u001b[0m \u001b[0mloss_batch\u001b[0m\u001b[1;33m(\u001b[0m\u001b[0mmodel\u001b[0m\u001b[1;33m,\u001b[0m \u001b[0mxb\u001b[0m\u001b[1;33m,\u001b[0m \u001b[0myb\u001b[0m\u001b[1;33m,\u001b[0m \u001b[0mloss_func\u001b[0m\u001b[1;33m,\u001b[0m \u001b[0mopt\u001b[0m\u001b[1;33m,\u001b[0m \u001b[0mcb_handler\u001b[0m\u001b[1;33m)\u001b[0m\u001b[1;33m\u001b[0m\u001b[1;33m\u001b[0m\u001b[0m\n\u001b[0m\u001b[0;32m     95\u001b[0m                 \u001b[1;32mif\u001b[0m \u001b[0mcb_handler\u001b[0m\u001b[1;33m.\u001b[0m\u001b[0mon_batch_end\u001b[0m\u001b[1;33m(\u001b[0m\u001b[0mloss\u001b[0m\u001b[1;33m)\u001b[0m\u001b[1;33m:\u001b[0m \u001b[1;32mbreak\u001b[0m\u001b[1;33m\u001b[0m\u001b[1;33m\u001b[0m\u001b[0m\n\u001b[0;32m     96\u001b[0m \u001b[1;33m\u001b[0m\u001b[0m\n",
      "\u001b[1;32mC:\\Anaconda\\envs\\tr100\\lib\\site-packages\\fastai\\basic_train.py\u001b[0m in \u001b[0;36mloss_batch\u001b[1;34m(model, xb, yb, loss_func, opt, cb_handler)\u001b[0m\n\u001b[0;32m     23\u001b[0m     \u001b[1;32mif\u001b[0m \u001b[1;32mnot\u001b[0m \u001b[0mis_listy\u001b[0m\u001b[1;33m(\u001b[0m\u001b[0mxb\u001b[0m\u001b[1;33m)\u001b[0m\u001b[1;33m:\u001b[0m \u001b[0mxb\u001b[0m \u001b[1;33m=\u001b[0m \u001b[1;33m[\u001b[0m\u001b[0mxb\u001b[0m\u001b[1;33m]\u001b[0m\u001b[1;33m\u001b[0m\u001b[1;33m\u001b[0m\u001b[0m\n\u001b[0;32m     24\u001b[0m     \u001b[1;32mif\u001b[0m \u001b[1;32mnot\u001b[0m \u001b[0mis_listy\u001b[0m\u001b[1;33m(\u001b[0m\u001b[0myb\u001b[0m\u001b[1;33m)\u001b[0m\u001b[1;33m:\u001b[0m \u001b[0myb\u001b[0m \u001b[1;33m=\u001b[0m \u001b[1;33m[\u001b[0m\u001b[0myb\u001b[0m\u001b[1;33m]\u001b[0m\u001b[1;33m\u001b[0m\u001b[1;33m\u001b[0m\u001b[0m\n\u001b[1;32m---> 25\u001b[1;33m     \u001b[0mout\u001b[0m \u001b[1;33m=\u001b[0m \u001b[0mmodel\u001b[0m\u001b[1;33m(\u001b[0m\u001b[1;33m*\u001b[0m\u001b[0mxb\u001b[0m\u001b[1;33m)\u001b[0m\u001b[1;33m\u001b[0m\u001b[1;33m\u001b[0m\u001b[0m\n\u001b[0m\u001b[0;32m     26\u001b[0m     \u001b[0mout\u001b[0m \u001b[1;33m=\u001b[0m \u001b[0mcb_handler\u001b[0m\u001b[1;33m.\u001b[0m\u001b[0mon_loss_begin\u001b[0m\u001b[1;33m(\u001b[0m\u001b[0mout\u001b[0m\u001b[1;33m)\u001b[0m\u001b[1;33m\u001b[0m\u001b[1;33m\u001b[0m\u001b[0m\n\u001b[0;32m     27\u001b[0m \u001b[1;33m\u001b[0m\u001b[0m\n",
      "\u001b[1;32mC:\\Anaconda\\envs\\tr100\\lib\\site-packages\\torch\\nn\\modules\\module.py\u001b[0m in \u001b[0;36m__call__\u001b[1;34m(self, *input, **kwargs)\u001b[0m\n\u001b[0;32m    487\u001b[0m             \u001b[0mresult\u001b[0m \u001b[1;33m=\u001b[0m \u001b[0mself\u001b[0m\u001b[1;33m.\u001b[0m\u001b[0m_slow_forward\u001b[0m\u001b[1;33m(\u001b[0m\u001b[1;33m*\u001b[0m\u001b[0minput\u001b[0m\u001b[1;33m,\u001b[0m \u001b[1;33m**\u001b[0m\u001b[0mkwargs\u001b[0m\u001b[1;33m)\u001b[0m\u001b[1;33m\u001b[0m\u001b[1;33m\u001b[0m\u001b[0m\n\u001b[0;32m    488\u001b[0m         \u001b[1;32melse\u001b[0m\u001b[1;33m:\u001b[0m\u001b[1;33m\u001b[0m\u001b[1;33m\u001b[0m\u001b[0m\n\u001b[1;32m--> 489\u001b[1;33m             \u001b[0mresult\u001b[0m \u001b[1;33m=\u001b[0m \u001b[0mself\u001b[0m\u001b[1;33m.\u001b[0m\u001b[0mforward\u001b[0m\u001b[1;33m(\u001b[0m\u001b[1;33m*\u001b[0m\u001b[0minput\u001b[0m\u001b[1;33m,\u001b[0m \u001b[1;33m**\u001b[0m\u001b[0mkwargs\u001b[0m\u001b[1;33m)\u001b[0m\u001b[1;33m\u001b[0m\u001b[1;33m\u001b[0m\u001b[0m\n\u001b[0m\u001b[0;32m    490\u001b[0m         \u001b[1;32mfor\u001b[0m \u001b[0mhook\u001b[0m \u001b[1;32min\u001b[0m \u001b[0mself\u001b[0m\u001b[1;33m.\u001b[0m\u001b[0m_forward_hooks\u001b[0m\u001b[1;33m.\u001b[0m\u001b[0mvalues\u001b[0m\u001b[1;33m(\u001b[0m\u001b[1;33m)\u001b[0m\u001b[1;33m:\u001b[0m\u001b[1;33m\u001b[0m\u001b[1;33m\u001b[0m\u001b[0m\n\u001b[0;32m    491\u001b[0m             \u001b[0mhook_result\u001b[0m \u001b[1;33m=\u001b[0m \u001b[0mhook\u001b[0m\u001b[1;33m(\u001b[0m\u001b[0mself\u001b[0m\u001b[1;33m,\u001b[0m \u001b[0minput\u001b[0m\u001b[1;33m,\u001b[0m \u001b[0mresult\u001b[0m\u001b[1;33m)\u001b[0m\u001b[1;33m\u001b[0m\u001b[1;33m\u001b[0m\u001b[0m\n",
      "\u001b[1;32m<ipython-input-20-1b843c0bb358>\u001b[0m in \u001b[0;36mforward\u001b[1;34m(self, src)\u001b[0m\n\u001b[0;32m     25\u001b[0m         \u001b[0mmask\u001b[0m \u001b[1;33m=\u001b[0m \u001b[0mtorch\u001b[0m\u001b[1;33m.\u001b[0m\u001b[0mtriu\u001b[0m\u001b[1;33m(\u001b[0m\u001b[0msrc\u001b[0m\u001b[1;33m.\u001b[0m\u001b[0mnew_ones\u001b[0m\u001b[1;33m(\u001b[0m\u001b[0ml\u001b[0m\u001b[1;33m,\u001b[0m \u001b[0ml\u001b[0m\u001b[1;33m)\u001b[0m\u001b[1;33m,\u001b[0m \u001b[0mdiagonal\u001b[0m\u001b[1;33m=\u001b[0m\u001b[1;36m1\u001b[0m\u001b[1;33m)\u001b[0m\u001b[1;33m.\u001b[0m\u001b[0mbyte\u001b[0m\u001b[1;33m(\u001b[0m\u001b[1;33m)\u001b[0m\u001b[1;33m[\u001b[0m\u001b[1;32mNone\u001b[0m\u001b[1;33m,\u001b[0m\u001b[1;32mNone\u001b[0m\u001b[1;33m]\u001b[0m \u001b[1;32mif\u001b[0m \u001b[0mself\u001b[0m\u001b[1;33m.\u001b[0m\u001b[0muse_msk\u001b[0m \u001b[1;32melse\u001b[0m \u001b[1;32mNone\u001b[0m\u001b[1;33m\u001b[0m\u001b[1;33m\u001b[0m\u001b[0m\n\u001b[0;32m     26\u001b[0m         \u001b[0msrc\u001b[0m \u001b[1;33m=\u001b[0m \u001b[0mself\u001b[0m\u001b[1;33m.\u001b[0m\u001b[0menc_dec\u001b[0m\u001b[1;33m(\u001b[0m\u001b[0msrc\u001b[0m\u001b[1;33m,\u001b[0m \u001b[0mmask\u001b[0m\u001b[1;33m=\u001b[0m\u001b[0mmask\u001b[0m\u001b[1;33m)\u001b[0m\u001b[1;33m\u001b[0m\u001b[1;33m\u001b[0m\u001b[0m\n\u001b[1;32m---> 27\u001b[1;33m         \u001b[0msrc\u001b[0m \u001b[1;33m=\u001b[0m \u001b[0mself\u001b[0m\u001b[1;33m.\u001b[0m\u001b[0mfinal\u001b[0m\u001b[1;33m(\u001b[0m\u001b[0msrc\u001b[0m\u001b[1;33m)\u001b[0m\u001b[1;33m\u001b[0m\u001b[1;33m\u001b[0m\u001b[0m\n\u001b[0m\u001b[0;32m     28\u001b[0m         \u001b[1;32mreturn\u001b[0m \u001b[0msrc\u001b[0m\u001b[1;33m\u001b[0m\u001b[1;33m\u001b[0m\u001b[0m\n",
      "\u001b[1;32mC:\\Anaconda\\envs\\tr100\\lib\\site-packages\\torch\\nn\\modules\\module.py\u001b[0m in \u001b[0;36m__call__\u001b[1;34m(self, *input, **kwargs)\u001b[0m\n\u001b[0;32m    487\u001b[0m             \u001b[0mresult\u001b[0m \u001b[1;33m=\u001b[0m \u001b[0mself\u001b[0m\u001b[1;33m.\u001b[0m\u001b[0m_slow_forward\u001b[0m\u001b[1;33m(\u001b[0m\u001b[1;33m*\u001b[0m\u001b[0minput\u001b[0m\u001b[1;33m,\u001b[0m \u001b[1;33m**\u001b[0m\u001b[0mkwargs\u001b[0m\u001b[1;33m)\u001b[0m\u001b[1;33m\u001b[0m\u001b[1;33m\u001b[0m\u001b[0m\n\u001b[0;32m    488\u001b[0m         \u001b[1;32melse\u001b[0m\u001b[1;33m:\u001b[0m\u001b[1;33m\u001b[0m\u001b[1;33m\u001b[0m\u001b[0m\n\u001b[1;32m--> 489\u001b[1;33m             \u001b[0mresult\u001b[0m \u001b[1;33m=\u001b[0m \u001b[0mself\u001b[0m\u001b[1;33m.\u001b[0m\u001b[0mforward\u001b[0m\u001b[1;33m(\u001b[0m\u001b[1;33m*\u001b[0m\u001b[0minput\u001b[0m\u001b[1;33m,\u001b[0m \u001b[1;33m**\u001b[0m\u001b[0mkwargs\u001b[0m\u001b[1;33m)\u001b[0m\u001b[1;33m\u001b[0m\u001b[1;33m\u001b[0m\u001b[0m\n\u001b[0m\u001b[0;32m    490\u001b[0m         \u001b[1;32mfor\u001b[0m \u001b[0mhook\u001b[0m \u001b[1;32min\u001b[0m \u001b[0mself\u001b[0m\u001b[1;33m.\u001b[0m\u001b[0m_forward_hooks\u001b[0m\u001b[1;33m.\u001b[0m\u001b[0mvalues\u001b[0m\u001b[1;33m(\u001b[0m\u001b[1;33m)\u001b[0m\u001b[1;33m:\u001b[0m\u001b[1;33m\u001b[0m\u001b[1;33m\u001b[0m\u001b[0m\n\u001b[0;32m    491\u001b[0m             \u001b[0mhook_result\u001b[0m \u001b[1;33m=\u001b[0m \u001b[0mhook\u001b[0m\u001b[1;33m(\u001b[0m\u001b[0mself\u001b[0m\u001b[1;33m,\u001b[0m \u001b[0minput\u001b[0m\u001b[1;33m,\u001b[0m \u001b[0mresult\u001b[0m\u001b[1;33m)\u001b[0m\u001b[1;33m\u001b[0m\u001b[1;33m\u001b[0m\u001b[0m\n",
      "\u001b[1;32m<ipython-input-19-311be4bf308f>\u001b[0m in \u001b[0;36mforward\u001b[1;34m(self, x)\u001b[0m\n\u001b[0;32m     26\u001b[0m         \u001b[0mmx\u001b[0m \u001b[1;33m=\u001b[0m \u001b[0mtorch\u001b[0m\u001b[1;33m.\u001b[0m\u001b[0mmax\u001b[0m\u001b[1;33m(\u001b[0m\u001b[0mx\u001b[0m\u001b[1;33m,\u001b[0m \u001b[0mdim\u001b[0m\u001b[1;33m=\u001b[0m\u001b[1;36m1\u001b[0m\u001b[1;33m,\u001b[0m \u001b[0mkeepdim\u001b[0m\u001b[1;33m=\u001b[0m\u001b[1;32mFalse\u001b[0m\u001b[1;33m)\u001b[0m\u001b[1;33m[\u001b[0m\u001b[1;36m0\u001b[0m\u001b[1;33m]\u001b[0m\u001b[1;33m\u001b[0m\u001b[1;33m\u001b[0m\u001b[0m\n\u001b[0;32m     27\u001b[0m         \u001b[0mx\u001b[0m \u001b[1;33m=\u001b[0m \u001b[0mtorch\u001b[0m\u001b[1;33m.\u001b[0m\u001b[0mcat\u001b[0m\u001b[1;33m(\u001b[0m\u001b[1;33m[\u001b[0m\u001b[0mavg\u001b[0m\u001b[1;33m,\u001b[0m \u001b[0mmx\u001b[0m\u001b[1;33m]\u001b[0m\u001b[1;33m,\u001b[0m \u001b[0mdim\u001b[0m\u001b[1;33m=\u001b[0m\u001b[1;36m1\u001b[0m\u001b[1;33m)\u001b[0m\u001b[1;33m\u001b[0m\u001b[1;33m\u001b[0m\u001b[0m\n\u001b[1;32m---> 28\u001b[1;33m         \u001b[0mx\u001b[0m \u001b[1;33m=\u001b[0m \u001b[0mself\u001b[0m\u001b[1;33m.\u001b[0m\u001b[0mlayers\u001b[0m\u001b[1;33m(\u001b[0m\u001b[0mx\u001b[0m\u001b[1;33m)\u001b[0m\u001b[1;33m\u001b[0m\u001b[1;33m\u001b[0m\u001b[0m\n\u001b[0m\u001b[0;32m     29\u001b[0m         \u001b[1;32mreturn\u001b[0m \u001b[0mx\u001b[0m\u001b[1;33m\u001b[0m\u001b[1;33m\u001b[0m\u001b[0m\n",
      "\u001b[1;32mC:\\Anaconda\\envs\\tr100\\lib\\site-packages\\torch\\nn\\modules\\module.py\u001b[0m in \u001b[0;36m__call__\u001b[1;34m(self, *input, **kwargs)\u001b[0m\n\u001b[0;32m    487\u001b[0m             \u001b[0mresult\u001b[0m \u001b[1;33m=\u001b[0m \u001b[0mself\u001b[0m\u001b[1;33m.\u001b[0m\u001b[0m_slow_forward\u001b[0m\u001b[1;33m(\u001b[0m\u001b[1;33m*\u001b[0m\u001b[0minput\u001b[0m\u001b[1;33m,\u001b[0m \u001b[1;33m**\u001b[0m\u001b[0mkwargs\u001b[0m\u001b[1;33m)\u001b[0m\u001b[1;33m\u001b[0m\u001b[1;33m\u001b[0m\u001b[0m\n\u001b[0;32m    488\u001b[0m         \u001b[1;32melse\u001b[0m\u001b[1;33m:\u001b[0m\u001b[1;33m\u001b[0m\u001b[1;33m\u001b[0m\u001b[0m\n\u001b[1;32m--> 489\u001b[1;33m             \u001b[0mresult\u001b[0m \u001b[1;33m=\u001b[0m \u001b[0mself\u001b[0m\u001b[1;33m.\u001b[0m\u001b[0mforward\u001b[0m\u001b[1;33m(\u001b[0m\u001b[1;33m*\u001b[0m\u001b[0minput\u001b[0m\u001b[1;33m,\u001b[0m \u001b[1;33m**\u001b[0m\u001b[0mkwargs\u001b[0m\u001b[1;33m)\u001b[0m\u001b[1;33m\u001b[0m\u001b[1;33m\u001b[0m\u001b[0m\n\u001b[0m\u001b[0;32m    490\u001b[0m         \u001b[1;32mfor\u001b[0m \u001b[0mhook\u001b[0m \u001b[1;32min\u001b[0m \u001b[0mself\u001b[0m\u001b[1;33m.\u001b[0m\u001b[0m_forward_hooks\u001b[0m\u001b[1;33m.\u001b[0m\u001b[0mvalues\u001b[0m\u001b[1;33m(\u001b[0m\u001b[1;33m)\u001b[0m\u001b[1;33m:\u001b[0m\u001b[1;33m\u001b[0m\u001b[1;33m\u001b[0m\u001b[0m\n\u001b[0;32m    491\u001b[0m             \u001b[0mhook_result\u001b[0m \u001b[1;33m=\u001b[0m \u001b[0mhook\u001b[0m\u001b[1;33m(\u001b[0m\u001b[0mself\u001b[0m\u001b[1;33m,\u001b[0m \u001b[0minput\u001b[0m\u001b[1;33m,\u001b[0m \u001b[0mresult\u001b[0m\u001b[1;33m)\u001b[0m\u001b[1;33m\u001b[0m\u001b[1;33m\u001b[0m\u001b[0m\n",
      "\u001b[1;32mC:\\Anaconda\\envs\\tr100\\lib\\site-packages\\torch\\nn\\modules\\container.py\u001b[0m in \u001b[0;36mforward\u001b[1;34m(self, input)\u001b[0m\n\u001b[0;32m     90\u001b[0m     \u001b[1;32mdef\u001b[0m \u001b[0mforward\u001b[0m\u001b[1;33m(\u001b[0m\u001b[0mself\u001b[0m\u001b[1;33m,\u001b[0m \u001b[0minput\u001b[0m\u001b[1;33m)\u001b[0m\u001b[1;33m:\u001b[0m\u001b[1;33m\u001b[0m\u001b[1;33m\u001b[0m\u001b[0m\n\u001b[0;32m     91\u001b[0m         \u001b[1;32mfor\u001b[0m \u001b[0mmodule\u001b[0m \u001b[1;32min\u001b[0m \u001b[0mself\u001b[0m\u001b[1;33m.\u001b[0m\u001b[0m_modules\u001b[0m\u001b[1;33m.\u001b[0m\u001b[0mvalues\u001b[0m\u001b[1;33m(\u001b[0m\u001b[1;33m)\u001b[0m\u001b[1;33m:\u001b[0m\u001b[1;33m\u001b[0m\u001b[1;33m\u001b[0m\u001b[0m\n\u001b[1;32m---> 92\u001b[1;33m             \u001b[0minput\u001b[0m \u001b[1;33m=\u001b[0m \u001b[0mmodule\u001b[0m\u001b[1;33m(\u001b[0m\u001b[0minput\u001b[0m\u001b[1;33m)\u001b[0m\u001b[1;33m\u001b[0m\u001b[1;33m\u001b[0m\u001b[0m\n\u001b[0m\u001b[0;32m     93\u001b[0m         \u001b[1;32mreturn\u001b[0m \u001b[0minput\u001b[0m\u001b[1;33m\u001b[0m\u001b[1;33m\u001b[0m\u001b[0m\n\u001b[0;32m     94\u001b[0m \u001b[1;33m\u001b[0m\u001b[0m\n",
      "\u001b[1;32mC:\\Anaconda\\envs\\tr100\\lib\\site-packages\\torch\\nn\\modules\\module.py\u001b[0m in \u001b[0;36m__call__\u001b[1;34m(self, *input, **kwargs)\u001b[0m\n\u001b[0;32m    487\u001b[0m             \u001b[0mresult\u001b[0m \u001b[1;33m=\u001b[0m \u001b[0mself\u001b[0m\u001b[1;33m.\u001b[0m\u001b[0m_slow_forward\u001b[0m\u001b[1;33m(\u001b[0m\u001b[1;33m*\u001b[0m\u001b[0minput\u001b[0m\u001b[1;33m,\u001b[0m \u001b[1;33m**\u001b[0m\u001b[0mkwargs\u001b[0m\u001b[1;33m)\u001b[0m\u001b[1;33m\u001b[0m\u001b[1;33m\u001b[0m\u001b[0m\n\u001b[0;32m    488\u001b[0m         \u001b[1;32melse\u001b[0m\u001b[1;33m:\u001b[0m\u001b[1;33m\u001b[0m\u001b[1;33m\u001b[0m\u001b[0m\n\u001b[1;32m--> 489\u001b[1;33m             \u001b[0mresult\u001b[0m \u001b[1;33m=\u001b[0m \u001b[0mself\u001b[0m\u001b[1;33m.\u001b[0m\u001b[0mforward\u001b[0m\u001b[1;33m(\u001b[0m\u001b[1;33m*\u001b[0m\u001b[0minput\u001b[0m\u001b[1;33m,\u001b[0m \u001b[1;33m**\u001b[0m\u001b[0mkwargs\u001b[0m\u001b[1;33m)\u001b[0m\u001b[1;33m\u001b[0m\u001b[1;33m\u001b[0m\u001b[0m\n\u001b[0m\u001b[0;32m    490\u001b[0m         \u001b[1;32mfor\u001b[0m \u001b[0mhook\u001b[0m \u001b[1;32min\u001b[0m \u001b[0mself\u001b[0m\u001b[1;33m.\u001b[0m\u001b[0m_forward_hooks\u001b[0m\u001b[1;33m.\u001b[0m\u001b[0mvalues\u001b[0m\u001b[1;33m(\u001b[0m\u001b[1;33m)\u001b[0m\u001b[1;33m:\u001b[0m\u001b[1;33m\u001b[0m\u001b[1;33m\u001b[0m\u001b[0m\n\u001b[0;32m    491\u001b[0m             \u001b[0mhook_result\u001b[0m \u001b[1;33m=\u001b[0m \u001b[0mhook\u001b[0m\u001b[1;33m(\u001b[0m\u001b[0mself\u001b[0m\u001b[1;33m,\u001b[0m \u001b[0minput\u001b[0m\u001b[1;33m,\u001b[0m \u001b[0mresult\u001b[0m\u001b[1;33m)\u001b[0m\u001b[1;33m\u001b[0m\u001b[1;33m\u001b[0m\u001b[0m\n",
      "\u001b[1;32m<ipython-input-10-4e9e6005c9ef>\u001b[0m in \u001b[0;36mforward\u001b[1;34m(self, x)\u001b[0m\n\u001b[0;32m      1\u001b[0m \u001b[1;32mclass\u001b[0m \u001b[0mGeLU\u001b[0m\u001b[1;33m(\u001b[0m\u001b[0mnn\u001b[0m\u001b[1;33m.\u001b[0m\u001b[0mModule\u001b[0m\u001b[1;33m)\u001b[0m\u001b[1;33m:\u001b[0m\u001b[1;33m\u001b[0m\u001b[1;33m\u001b[0m\u001b[0m\n\u001b[0;32m      2\u001b[0m     \u001b[1;32mdef\u001b[0m \u001b[0mforward\u001b[0m\u001b[1;33m(\u001b[0m\u001b[0mself\u001b[0m\u001b[1;33m,\u001b[0m \u001b[0mx\u001b[0m\u001b[1;33m)\u001b[0m\u001b[1;33m:\u001b[0m\u001b[1;33m\u001b[0m\u001b[1;33m\u001b[0m\u001b[0m\n\u001b[1;32m----> 3\u001b[1;33m         \u001b[1;32mreturn\u001b[0m \u001b[1;36m0.5\u001b[0m \u001b[1;33m*\u001b[0m \u001b[0mx\u001b[0m \u001b[1;33m*\u001b[0m \u001b[1;33m(\u001b[0m\u001b[1;36m1\u001b[0m \u001b[1;33m+\u001b[0m \u001b[0mtorch\u001b[0m\u001b[1;33m.\u001b[0m\u001b[0mtanh\u001b[0m\u001b[1;33m(\u001b[0m\u001b[1;36m0.79788\u001b[0m \u001b[1;33m*\u001b[0m \u001b[1;33m(\u001b[0m\u001b[0mx\u001b[0m \u001b[1;33m+\u001b[0m \u001b[1;36m0.044715\u001b[0m \u001b[1;33m*\u001b[0m \u001b[0mtorch\u001b[0m\u001b[1;33m.\u001b[0m\u001b[0mpow\u001b[0m\u001b[1;33m(\u001b[0m\u001b[0mx\u001b[0m\u001b[1;33m,\u001b[0m \u001b[1;36m3\u001b[0m\u001b[1;33m)\u001b[0m\u001b[1;33m)\u001b[0m\u001b[1;33m)\u001b[0m\u001b[1;33m)\u001b[0m\u001b[1;33m\u001b[0m\u001b[1;33m\u001b[0m\u001b[0m\n\u001b[0m",
      "\u001b[1;31mKeyboardInterrupt\u001b[0m: "
     ]
    }
   ],
   "source": [
    "learner.fit_one_cycle(cyc_len=5, max_lr=1e-1, wd=0.1)"
   ]
  }
 ],
 "metadata": {
  "kernelspec": {
   "display_name": "Python 3",
   "language": "python",
   "name": "python3"
  },
  "language_info": {
   "codemirror_mode": {
    "name": "ipython",
    "version": 3
   },
   "file_extension": ".py",
   "mimetype": "text/x-python",
   "name": "python",
   "nbconvert_exporter": "python",
   "pygments_lexer": "ipython3",
   "version": "3.7.3"
  }
 },
 "nbformat": 4,
 "nbformat_minor": 2
}
